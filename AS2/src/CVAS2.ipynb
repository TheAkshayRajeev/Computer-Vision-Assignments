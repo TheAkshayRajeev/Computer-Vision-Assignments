{
 "cells": [
  {
   "cell_type": "markdown",
   "metadata": {},
   "source": [
    "# Assignment2: CS512 Fall2020"
   ]
  },
  {
   "cell_type": "markdown",
   "metadata": {},
   "source": [
    "## Akshay R - A20442409"
   ]
  },
  {
   "cell_type": "code",
   "execution_count": 1,
   "metadata": {},
   "outputs": [],
   "source": [
    "import cv2\n",
    "import math\n",
    "import numpy as np\n",
    "import sys\n",
    "import os"
   ]
  },
  {
   "cell_type": "markdown",
   "metadata": {},
   "source": [
    "### Main method"
   ]
  },
  {
   "cell_type": "code",
   "execution_count": 2,
   "metadata": {},
   "outputs": [],
   "source": [
    "def main():\n",
    "    global image1\n",
    "    global image2\n",
    "    global file1\n",
    "    global file2\n",
    "    global image3\n",
    "    image1, file1, image2, file2 = get_image()\n",
    "    image3 = np.concatenate((image1, image2), axis=1)\n",
    "\n",
    "    cv2.imshow('Image_own_processing', image1)\n",
    "    cv2.imshow('OpenCV_processing_image', image2)\n",
    "    cv2.imshow('Features', image3)\n",
    "\n",
    "    while(True):\n",
    "        key = cv2.waitKey()\n",
    "        print(key)\n",
    "\n",
    "        if key == ord('i'):\n",
    "            image1, image2 = reloadimage(file1, file2)\n",
    "            print(\"'i' key pressed: image reloaded\")\n",
    "\n",
    "        elif key == ord('w'):\n",
    "            savef(image1, image2)\n",
    "            print(\"'w' key pressed: image saved into out.jpg file\")\n",
    "        \n",
    "        elif key == ord('A'):\n",
    "            print(\"'A' key pressed: detection of corners using OpenCV:\")\n",
    "            cv2.createTrackbar('k', 'OpenCV_processing_image', 1, 20, k2)\n",
    "            cv2.createTrackbar('Threshold', 'OpenCV_processing_image',1, 20, threshold2)\n",
    "            cv2.createTrackbar('Window_Size', 'OpenCV_processing_image', 1, 20, sizewind2)\n",
    "        \n",
    "        elif key == ord('a'):\n",
    "            print(\"'a' key pressed: detection of corners using own implementation function:\")\n",
    "            cv2.createTrackbar('k', 'Image_own_processing', 20, 80, k)\n",
    "            cv2.createTrackbar('Threshold', 'Image_own_processing', 0, 10, threshold)\n",
    "            cv2.createTrackbar('Window_Size', 'Image_own_processing', 0, 10, sizewind)\n",
    "            \n",
    "        elif key == ord('b'):\n",
    "            print(\"'b' key pressed: Better localization: \")\n",
    "            blimg = betterLocalization(image1)\n",
    "            cv2.imshow('better localization', blimg)\n",
    "            cv2.waitKey(0)\n",
    "            cv2.destroyAllWindows()\n",
    "\n",
    "        elif key == ord('c'):\n",
    "            print(\"'c' key pressed: used features function:\")\n",
    "            cv2.createTrackbar('k', 'Features', 20, 80, k3)\n",
    "            cv2.createTrackbar('Threshold', 'Features', 0, 10, threshold3)\n",
    "            cv2.createTrackbar('Window_Size', 'Features', 0, 10, sizewind3)\n",
    "\n",
    "        elif key == ord('h'):\n",
    "            print(\"'h' key pressed: Key bindings:\")\n",
    "            help()\n",
    "        elif key == 27:\n",
    "            cv2.destroyAllWindows()\n",
    "            print(\"'Esc' key pressed: Program Closed!\")\n",
    "            break\n",
    "        else:\n",
    "            print(\"Wrong key pressed, press 'h' for help\")"
   ]
  },
  {
   "cell_type": "markdown",
   "metadata": {},
   "source": [
    "### Function that gets the image file or capture it from camera"
   ]
  },
  {
   "cell_type": "code",
   "execution_count": 3,
   "metadata": {},
   "outputs": [],
   "source": [
    "def get_image():\n",
    "    # read from file or videocapture image1\n",
    "    file1 = input(\n",
    "        \"Write the file name path or press enter to capture an image1: \\n\")\n",
    "    if len(file1) > 1:\n",
    "        image1 = cv2.imread(file1, 0)\n",
    "    else:\n",
    "        cap1 = cv2.VideoCapture(0)\n",
    "        image1 = cap1.read()[1]\n",
    "    image1 = to3channel(image1)\n",
    "    while image1.shape[0] > 1200 or image1.shape[1] > 750:\n",
    "        image1 = cv2.resize(image1, (int(image1.shape[1]/2), int(image1.shape[0]/2)))\n",
    "    file2 = input(\n",
    "        \"Write the file name path or press enter to capture an image2: \\n\")\n",
    "    if len(file2) > 1:\n",
    "        image2 = cv2.imread(file2, 0)\n",
    "    else:\n",
    "        cap2 = cv2.VideoCapture(0)\n",
    "        image2 = cap2.read()[1]\n",
    "    image2 = to3channel(image2)\n",
    "    while image2.shape[0] > 1200 or image2.shape[1] > 750:\n",
    "            image2 = cv2.resize(image2, (int(\n",
    "                image2.shape[1]/2), int(image2.shape[0]/2)))\n",
    "    return (image1, file1, image2, file2)\n",
    "\n",
    "def to3channel(image):\n",
    "    if len(image.shape) == 2:\n",
    "        image = cv2.cvtColor(image, cv2.COLOR_GRAY2BGR)\n",
    "    return image"
   ]
  },
  {
   "cell_type": "markdown",
   "metadata": {},
   "source": [
    "### Function that reloads the original image, pressed \"i\""
   ]
  },
  {
   "cell_type": "code",
   "execution_count": 4,
   "metadata": {},
   "outputs": [],
   "source": [
    "def reloadimage(file1, file2):\n",
    "    if len(file1) > 1:\n",
    "        image1 = cv2.imread(file1,0)\n",
    "    else:\n",
    "        cap1 = cv2.VideoCapture(0)\n",
    "        image1 = cap1.read()[1]\n",
    "    image1 = to3channel(image1)\n",
    "    while image1.shape[0] > 1200 or image1.shape[1] > 750:\n",
    "        image1 = cv2.resize(image1, (int(\n",
    "            image1.shape[1]/2), int(image1.shape[0]/2)))\n",
    "    \n",
    "    if len(file2) > 1:\n",
    "        image2 = cv2.imread(file2,0)\n",
    "    else:\n",
    "        cap2 = cv2.VideoCapture(0)\n",
    "        image2 = cap2.read()[1]\n",
    "    image2 = to3channel(image2)\n",
    "    while image2.shape[0] > 1200 or image2.shape[1] > 750:\n",
    "        image2 = cv2.resize(image2, (int(\n",
    "            image2.shape[1]/2), int(image2.shape[0]/2)))\n",
    "    return (image1, image2)"
   ]
  },
  {
   "cell_type": "code",
   "execution_count": 5,
   "metadata": {},
   "outputs": [],
   "source": [
    "def savef(image1, image2):\n",
    "    cv2.imwrite(\"out1.jpg\", image1)\n",
    "    cv2.imwrite(\"out2.jpg\", image2)"
   ]
  },
  {
   "cell_type": "code",
   "execution_count": 6,
   "metadata": {},
   "outputs": [],
   "source": [
    "def togray(image):\n",
    "    image = cv2.cvtColor(image, cv2.COLOR_RGB2GRAY)\n",
    "    return image"
   ]
  },
  {
   "cell_type": "markdown",
   "metadata": {},
   "source": [
    "### Sliders for ownHarris()"
   ]
  },
  {
   "cell_type": "code",
   "execution_count": 7,
   "metadata": {},
   "outputs": [],
   "source": [
    "def k(self):\n",
    "    if self > 0 and self < 10:\n",
    "        ownHarris(file1, file2)\n",
    "    return\n",
    "def threshold(self):\n",
    "    if self != 0 and self < 10:\n",
    "        ownHarris(file1, file2)\n",
    "    return\n",
    "def sizewind(self):\n",
    "    if self != 0:\n",
    "        ownHarris(file1, file2)\n",
    "    return"
   ]
  },
  {
   "cell_type": "markdown",
   "metadata": {},
   "source": [
    "### Sliders for cornerHarris()"
   ]
  },
  {
   "cell_type": "code",
   "execution_count": 8,
   "metadata": {},
   "outputs": [],
   "source": [
    "def k2(self):\n",
    "    if self > 0 and self < 10:\n",
    "        cornerHarris(file1, file2)\n",
    "    return\n",
    "def threshold2(self):\n",
    "    if self != 0 and self < 10:\n",
    "        cornerHarris(file1, file2)\n",
    "    return\n",
    "def sizewind2(self):\n",
    "    if self != 0:\n",
    "        cornerHarris(file1, file2)\n",
    "    return"
   ]
  },
  {
   "cell_type": "markdown",
   "metadata": {},
   "source": [
    "### Sliders for features"
   ]
  },
  {
   "cell_type": "code",
   "execution_count": 9,
   "metadata": {},
   "outputs": [],
   "source": [
    "def k3(self):\n",
    "    if self > 0 and self < 10:\n",
    "        fvec(file1, file2)\n",
    "    return\n",
    "def threshold3(self):\n",
    "    if self != 0 and self < 10:\n",
    "        fvec(file1, file2)\n",
    "    return\n",
    "def sizewind3(self):\n",
    "    if self != 0:\n",
    "        fvec(file1, file2)\n",
    "    return"
   ]
  },
  {
   "cell_type": "markdown",
   "metadata": {},
   "source": [
    "### Harris corner detection - Own implementation"
   ]
  },
  {
   "cell_type": "code",
   "execution_count": 10,
   "metadata": {},
   "outputs": [],
   "source": [
    "def ownHarris(file1, file2):\n",
    "    img1 = reloadimage(file1, file2)[0]\n",
    "\n",
    "    k = 2*cv2.getTrackbarPos('k', 'Image_own_processing')/1000\n",
    "    threshold = cv2.getTrackbarPos('Threshold', 'Image_own_processing')/10\n",
    "    winsize = cv2.getTrackbarPos('Window_Size', 'Image_own_processing')\n",
    "    \n",
    "    max_r = 0\n",
    "    r = []\n",
    "    M = np.matrix([[], []])\n",
    "    corner_list = []\n",
    "\n",
    "    img1sx = img1\n",
    "    img1sobelx = cv2.Sobel(img1, cv2.CV_64F, 1, 0, ksize=5)\n",
    "    img1sx = cv2.normalize(img1sobelx, img1sx, alpha=0, beta=1, norm_type=cv2.NORM_MINMAX, dtype=cv2.CV_64F)\n",
    "    img1sx = img1sx**2\n",
    "    img1sy = img1\n",
    "    img1sobely = cv2.Sobel(img1, cv2.CV_64F, 0, 1, ksize=5)\n",
    "    img1sy = cv2.normalize(img1sobely, img1sy, alpha=0, beta=1, norm_type=cv2.NORM_MINMAX, dtype=cv2.CV_64F)\n",
    "    img1sy = img1sy**2\n",
    "    img1sxy = img1sx*img1sy\n",
    "\n",
    "    for i in range(math.floor(winsize/2), (img1sx.shape[0])-math.floor(winsize/2)):\n",
    "        for j in range(math.floor(winsize/2), (img1sx.shape[1])-math.floor(winsize/2)):\n",
    "            Ix2 = img1sx[i-math.floor(winsize/2):i+math.floor(winsize/2)+1,\n",
    "                         j-math.floor(winsize/2):j+math.floor(winsize/2)+1]\n",
    "            Iy2 = img1sy[i-math.floor(winsize/2):i+math.floor(winsize/2)+1,\n",
    "                         j-math.floor(winsize/2):j+math.floor(winsize/2)+1]\n",
    "            IxIy = img1sxy[i-math.floor(winsize/2):i+math.floor(\n",
    "                winsize/2)+1, j-math.floor(winsize/2):j+math.floor(winsize/2)+1]\n",
    "\n",
    "            Sx = Ix2.sum()\n",
    "            Sy = Iy2.sum()\n",
    "            Sxy = IxIy.sum()\n",
    "\n",
    "            M = np.matrix([[Sx, Sxy], [Sxy, Sy]])\n",
    "            det = np.linalg.det(M)\n",
    "            tr = np.trace(M)\n",
    "            r.append([i, j, det - k*tr**2])\n",
    "\n",
    "    for pixel in r:\n",
    "        if pixel[2] > max_r:\n",
    "            max_r = pixel[2]\n",
    "\n",
    "    for pixel in r:\n",
    "        if pixel[2] > threshold*max_r:\n",
    "            corner_list.append((pixel[1], pixel[0]))\n",
    "\n",
    "    img1 = to3channel(img1)\n",
    "\n",
    "    while corner_list:\n",
    "        corner = corner_list.pop()\n",
    "        cv2.rectangle(img1, (corner[0]-2, corner[1]+2),\n",
    "                      (corner[0]+2, corner[1]-2), (0, 0, 255), 1)\n",
    "\n",
    "    cv2.imshow('Image_own_processing', img1)\n",
    "    print(\"k_own= \", k)\n",
    "    print(\"Threshold_own = \", threshold)\n",
    "    print(\"Window_Size_own = \", winsize)\n",
    "\n",
    "    return"
   ]
  },
  {
   "cell_type": "markdown",
   "metadata": {},
   "source": [
    "### Harris corner detection - OpenCV implementation"
   ]
  },
  {
   "cell_type": "code",
   "execution_count": 11,
   "metadata": {},
   "outputs": [],
   "source": [
    "def cornerHarris(file1, file2):\n",
    "    img1 = reloadimage(file1, file2)[1]\n",
    "    gray = togray(img1)\n",
    "    img1 = togray(img1)\n",
    "    img1 = to3channel(img1)\n",
    "    gray = np.float32(gray)\n",
    "\n",
    "    ksize = cv2.getTrackbarPos('k', 'OpenCV_processing_image')\n",
    "    blockSize = cv2.getTrackbarPos('Window_Size', 'OpenCV_processing_image')\n",
    "    threshold = cv2.getTrackbarPos('Threshold', 'OpenCV_processing_image')/1000\n",
    "    aux = 0\n",
    "    if ksize % 2 == 0:\n",
    "        aux = 1\n",
    "    ksize = ksize + aux\n",
    "    aux = 0\n",
    "    if blockSize % 2 == 0:\n",
    "        aux = 1\n",
    "    blockSize = blockSize + aux\n",
    "    cv2.imshow('OpenCV_processing_image', img1)\n",
    "    # cornerHarris(image, blocksize, ksize, k)\n",
    "    # blockSize – size of the windows considered for the corner detection-2\n",
    "    # ksize – parameter for the derivative of Sobel-3\n",
    "    # k – free parameter for the Harris equation.\n",
    "    dst = cv2.cornerHarris(gray, blockSize, ksize, 0.04)\n",
    "\n",
    "    #result is dilated for marking the corners, not important\n",
    "    dst = cv2.dilate(dst, None)\n",
    "\n",
    "    # Threshold for an optimal value, it may vary depending on the image - 0.001\n",
    "    img1[dst > threshold*dst.max()] = [0, 0, 255]\n",
    "\n",
    "    print(\"k OpenCV= \", ksize)\n",
    "    print(\"Threshold OpenCV= \", threshold)\n",
    "    print(\"Window_Size OpenCV= \", blockSize)\n",
    "    cv2.imshow('OpenCV_processing_image', img1)"
   ]
  },
  {
   "cell_type": "markdown",
   "metadata": {},
   "source": [
    "### Compute features"
   ]
  },
  {
   "cell_type": "code",
   "execution_count": 12,
   "metadata": {},
   "outputs": [],
   "source": [
    "def fvec(file1, file2):\n",
    "    image1, image2 = reloadimage(file1,file2)\n",
    "\n",
    "    image1_g = togray(image1)\n",
    "    image2_g = togray(image2)\n",
    "\n",
    "    k = cv2.getTrackbarPos('k', 'Features')/1000\n",
    "    threshold = cv2.getTrackbarPos('Threshold', 'Features')/10\n",
    "    winsize = cv2.getTrackbarPos('Window_Size', 'Features')\n",
    "\n",
    "    max_r1 = 0\n",
    "    r1 = []\n",
    "    M1 = np.matrix([[], []])\n",
    "    corner_list1 = []\n",
    "\n",
    "    max_r2 = 0\n",
    "    r2 = []\n",
    "    M2 = np.matrix([[], []])\n",
    "    corner_list2 = []\n",
    "\n",
    "    #calculate conerners for image1\n",
    "    image1sx = image1_g\n",
    "    image1sobelx = cv2.Sobel(image1_g, cv2.CV_64F, 1, 0, ksize=5)\n",
    "    image1sx = cv2.normalize(image1sobelx, image1sx, alpha=0,beta=1, norm_type=cv2.NORM_MINMAX, dtype=cv2.CV_64F)\n",
    "    image1sx = image1sx**2\n",
    "    \n",
    "    image1sy = image1_g\n",
    "    image1sobely = cv2.Sobel(image1_g, cv2.CV_64F, 0, 1, ksize=5)\n",
    "    image1sy = cv2.normalize(image1sobely, image1sy, alpha=0,beta=1, norm_type=cv2.NORM_MINMAX, dtype=cv2.CV_64F)\n",
    "    image1sy = image1sy**2\n",
    "\n",
    "    image1sxy = image1sx*image1sy\n",
    "\n",
    "    for i in range(math.floor(winsize/2), (image1sx.shape[0])-math.floor(winsize/2)):\n",
    "        for j in range(math.floor(winsize/2), (image1sx.shape[1])-math.floor(winsize/2)):\n",
    "            Ix2_1 = image1sx[i-math.floor(winsize/2):i+math.floor(\n",
    "                winsize/2)+1, j-math.floor(winsize/2):j+math.floor(winsize/2)+1]\n",
    "            Iy2_1 = image1sy[i-math.floor(winsize/2):i+math.floor(\n",
    "                winsize/2)+1, j-math.floor(winsize/2):j+math.floor(winsize/2)+1]\n",
    "            IxIy_1 = image1sxy[i-math.floor(winsize/2):i+math.floor(\n",
    "                winsize/2)+1, j-math.floor(winsize/2):j+math.floor(winsize/2)+1]\n",
    "\n",
    "            Sx_1 = Ix2_1.sum()\n",
    "            Sy_1 = Iy2_1.sum()\n",
    "            Sxy_1 = IxIy_1.sum()\n",
    "\n",
    "            M1 = np.matrix([[Sx_1, Sxy_1], [Sxy_1, Sy_1]])\n",
    "            det1 = np.linalg.det(M1)\n",
    "            tr1 = np.trace(M1)\n",
    "            r1.append([i, j, det1 - k*tr1**2])\n",
    "\n",
    "    for pixel in r1:\n",
    "        if pixel[2] > max_r1:\n",
    "            max_r1 = pixel[2]\n",
    "\n",
    "    for pixel in r1:\n",
    "        if pixel[2] > threshold*max_r1:\n",
    "            corner_list1.append((pixel[1], pixel[0]))\n",
    "\n",
    "    #calculate conerners for image2\n",
    "    image2sx = image2_g\n",
    "    image2sobelx = cv2.Sobel(image2_g, cv2.CV_64F, 1, 0, ksize=5)\n",
    "    image2sx = cv2.normalize(image2sobelx, image2sx, alpha=0, beta=1, norm_type=cv2.NORM_MINMAX, dtype=cv2.CV_64F)\n",
    "    image2sx = image2sx**2\n",
    "\n",
    "    image2sy = image2_g\n",
    "    image2sobely = cv2.Sobel(image2_g, cv2.CV_64F, 0, 1, ksize=5)\n",
    "    image2sy = cv2.normalize(image2sobely, image2sy, alpha=0,beta=1, norm_type=cv2.NORM_MINMAX, dtype=cv2.CV_64F)\n",
    "    image2sy = image2sy**2\n",
    "\n",
    "    image2sxy = image2sx*image2sy\n",
    "\n",
    "    for i in range(math.floor(winsize/2), (image2sx.shape[0])-math.floor(winsize/2)):\n",
    "        for j in range(math.floor(winsize/2), (image2sx.shape[1])-math.floor(winsize/2)):\n",
    "            Ix2_2 = image2sx[i-math.floor(winsize/2):i+math.floor(\n",
    "                winsize/2)+1, j-math.floor(winsize/2):j+math.floor(winsize/2)+1]\n",
    "            Iy2_2 = image2sy[i-math.floor(winsize/2):i+math.floor(\n",
    "                winsize/2)+1, j-math.floor(winsize/2):j+math.floor(winsize/2)+1]\n",
    "            IxIy_2 = image2sxy[i-math.floor(winsize/2):i+math.floor(\n",
    "                winsize/2)+1, j-math.floor(winsize/2):j+math.floor(winsize/2)+1]\n",
    "\n",
    "            Sx_2 = Ix2_2.sum()\n",
    "            Sy_2 = Iy2_2.sum()\n",
    "            Sxy_2 = IxIy_2.sum()\n",
    "\n",
    "            M2 = np.matrix([[Sx_2, Sxy_2], [Sxy_2, Sy_2]])\n",
    "            det2 = np.linalg.det(M2)\n",
    "            tr2 = np.trace(M2)\n",
    "            r2.append([i, j, det2 - k*tr2**2])\n",
    "\n",
    "    for pixel in r2:\n",
    "        if pixel[2] > max_r2:\n",
    "            max_r2 = pixel[2]\n",
    "\n",
    "    for pixel in r2:\n",
    "        if pixel[2] > threshold*max_r2:\n",
    "            corner_list2.append((pixel[1], pixel[0]))\n",
    "\n",
    "    #calculate features\n",
    "    orb = cv2.ORB_create()\n",
    "\n",
    "    kp1, des1 = orb.detectAndCompute(image1, None)\n",
    "    kp2, des2 = orb.detectAndCompute(image2, None)\n",
    "\n",
    "    bf = cv2.BFMatcher(cv2.NORM_HAMMING, crossCheck=True)\n",
    "\n",
    "    matches = bf.match(des1, des2)\n",
    "    matches = sorted(matches, key=lambda x: x.distance)\n",
    "\n",
    "    image3 = cv2.drawMatches(image1, kp1, image2, kp2, matches[:20], None, flags=2)\n",
    "    cv2.imshow('Features', image3)\n",
    "\n",
    "    #draw corners\n",
    "    while corner_list1:\n",
    "        corner1 = corner_list1.pop()\n",
    "        cv2.rectangle(image3, (corner1[0]-2, corner1[1]+2), (corner1[0]+2, corner1[1]-2), (0, 0, 255), 1)\n",
    "\n",
    "    while corner_list2:\n",
    "        corner2 = corner_list2.pop()\n",
    "        cv2.rectangle(image3, (image1.shape[1]+corner2[0]-2, corner2[1]+2), (image1.shape[1]+corner2[0]+2, corner2[1]-2), (0, 0, 255), 1)\n",
    "\n",
    "    cv2.imshow('Features', image3)\n",
    "    print(\"k = \", k)\n",
    "    print(\"Threshold = \", threshold)\n",
    "    print(\"Window_Size = \", winsize)"
   ]
  },
  {
   "cell_type": "markdown",
   "metadata": {},
   "source": [
    "### Better localization"
   ]
  },
  {
   "cell_type": "code",
   "execution_count": 13,
   "metadata": {},
   "outputs": [],
   "source": [
    "def betterLocalization(img):\n",
    "    gray = cv2.cvtColor(img, cv2.COLOR_BGR2GRAY)\n",
    "    gray = np.float32(gray)\n",
    "    dst = cv2.cornerHarris(gray,2,3,0.04)\n",
    "    dst = cv2.dilate(dst,None)\n",
    "    ret, dst = cv2.threshold(dst,0.01*dst.max(),255,0)\n",
    "    dst = np.uint8(dst)\n",
    "\n",
    "    ret, labels, stats, centroids = cv2.connectedComponentsWithStats(dst)\n",
    "    criteria = (cv2.TERM_CRITERIA_EPS + cv2.TERM_CRITERIA_MAX_ITER, 100, 0.001)\n",
    "    corners = cv2.cornerSubPix(gray,np.float32(centroids),(5,5),(-1,-1),criteria)\n",
    "    output = np.hstack((centroids,corners))\n",
    "    output = np.int0(output)\n",
    "    img[output[:,1],output[:,0]]=[0,0,255]\n",
    "    return img"
   ]
  },
  {
   "cell_type": "markdown",
   "metadata": {},
   "source": [
    "### Help function"
   ]
  },
  {
   "cell_type": "code",
   "execution_count": 14,
   "metadata": {},
   "outputs": [],
   "source": [
    "def help():\n",
    "    print(\"Press ‘i’ to reload the original image.\")\n",
    "    print(\"Press ‘s’ to save the current image into the file 'ouput.jpg'\")\n",
    "    print(\"Press 'A' to detect corners using OpenCV funtionskey pressed\")\n",
    "    print(\"Press 'a' to detect corners using own implementation\")\n",
    "    print(\"Press 'b' for better localization\")\n",
    "    print(\"Press 'c' to display features image\")\n",
    "    print(\"Press ‘h’ to display a short description of the program, and key bindings. \\n\")"
   ]
  },
  {
   "cell_type": "markdown",
   "metadata": {},
   "source": [
    "### Main method call"
   ]
  },
  {
   "cell_type": "code",
   "execution_count": null,
   "metadata": {},
   "outputs": [],
   "source": [
    "main()"
   ]
  },
  {
   "cell_type": "code",
   "execution_count": null,
   "metadata": {},
   "outputs": [],
   "source": []
  },
  {
   "cell_type": "code",
   "execution_count": null,
   "metadata": {},
   "outputs": [],
   "source": []
  },
  {
   "cell_type": "code",
   "execution_count": null,
   "metadata": {},
   "outputs": [],
   "source": []
  },
  {
   "cell_type": "code",
   "execution_count": null,
   "metadata": {},
   "outputs": [],
   "source": []
  }
 ],
 "metadata": {
  "kernelspec": {
   "display_name": "Python 3",
   "language": "python",
   "name": "python3"
  },
  "language_info": {
   "codemirror_mode": {
    "name": "ipython",
    "version": 3
   },
   "file_extension": ".py",
   "mimetype": "text/x-python",
   "name": "python",
   "nbconvert_exporter": "python",
   "pygments_lexer": "ipython3",
   "version": "3.7.4"
  }
 },
 "nbformat": 4,
 "nbformat_minor": 2
}
