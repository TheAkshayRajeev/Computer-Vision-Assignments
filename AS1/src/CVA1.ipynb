{
 "cells": [
  {
   "cell_type": "code",
   "execution_count": 1,
   "metadata": {},
   "outputs": [],
   "source": [
    "import numpy as np\n",
    "import cv2\n",
    "import sys\n",
    "import math"
   ]
  },
  {
   "cell_type": "markdown",
   "metadata": {},
   "source": [
    "### 1, 2, 3. Function that gets the image file or capture it from camera"
   ]
  },
  {
   "cell_type": "code",
   "execution_count": 2,
   "metadata": {},
   "outputs": [],
   "source": [
    "def get_image():\n",
    "#   read from file or videocapture\n",
    "    file = input(\"Write the file name path or press enter to capture an image: \\n\")\n",
    "    if len(file) > 1:\n",
    "        image_original = cv2.imread(file,1)\n",
    "    else:\n",
    "        cap = cv2.VideoCapture(0)\n",
    "        retval,image_original = cap.read()\n",
    "#   Conversion to 3 color channel\n",
    "    image_original = to3channel(image_original)\n",
    "#   Program should work for any size\n",
    "    while image_original.shape[0] > 1200 or image_original.shape[1] > 750:\n",
    "        image_original = cv2.resize(image_original,(int(image_original.shape[1]/2), \n",
    "                                                    int(image_original.shape[0]/2)))\n",
    "    cv2.imshow ('image', image_original)\n",
    "    return (image_original, file)"
   ]
  },
  {
   "cell_type": "markdown",
   "metadata": {},
   "source": [
    "### 5"
   ]
  },
  {
   "cell_type": "markdown",
   "metadata": {},
   "source": [
    "### a. Function that reloads the original image, pressed \"i\""
   ]
  },
  {
   "cell_type": "code",
   "execution_count": 3,
   "metadata": {},
   "outputs": [],
   "source": [
    "def reload_image(image):\n",
    "    if len(image) > 1:\n",
    "        image_original = cv2.imread(image)\n",
    "    else:\n",
    "        cap = cv2.VideoCapture(0)\n",
    "        retval,image_original = cap.read()\n",
    "    while image_original.shape[0] > 1200 or image_original.shape[1] > 750:\n",
    "        image_original = cv2.resize(image_original,(int(image_original.shape[1]/2), \n",
    "                                                    int(image_original.shape[0]/2)))\n",
    "    return image_original"
   ]
  },
  {
   "cell_type": "markdown",
   "metadata": {},
   "source": [
    "### b. Function that save current image to file, pressed \"w\""
   ]
  },
  {
   "cell_type": "code",
   "execution_count": 4,
   "metadata": {},
   "outputs": [],
   "source": [
    "def savefile(image):\n",
    "    cv2.imwrite(\"out.jpg\", image)"
   ]
  },
  {
   "cell_type": "markdown",
   "metadata": {},
   "source": [
    "### c. Function that converts to gray with cv2, pressed \"g\""
   ]
  },
  {
   "cell_type": "code",
   "execution_count": 5,
   "metadata": {},
   "outputs": [],
   "source": [
    "def togray(image):\n",
    "    image = cv2.cvtColor(image, cv2.COLOR_RGB2GRAY)\n",
    "    return image"
   ]
  },
  {
   "cell_type": "markdown",
   "metadata": {},
   "source": [
    "### d. Function that converts to gray with own implementation, pressed \"G\""
   ]
  },
  {
   "cell_type": "code",
   "execution_count": 6,
   "metadata": {},
   "outputs": [],
   "source": [
    "def tograyown(image):\n",
    "    lumi=np.dot(image[...,:3], [0.299, 0.587, 0.114])\n",
    "    return lumi.astype(np.uint8)"
   ]
  },
  {
   "cell_type": "markdown",
   "metadata": {},
   "source": [
    "### e. Function that cycles through color channels, pressed \"c\""
   ]
  },
  {
   "cell_type": "code",
   "execution_count": 7,
   "metadata": {},
   "outputs": [],
   "source": [
    "def changecolor(image, count):\n",
    "    if len(image.shape) == 3:\n",
    "        if count == 1:\n",
    "            image[:,:,1] = 0\n",
    "            image[:,:,2] = 0\n",
    "            count = 1\n",
    "            print(\"blue channel showed\")\n",
    "        elif count == 2:\n",
    "            image[:,:,0] = 0\n",
    "            image[:,:,2] = 0\n",
    "            count = 2\n",
    "            print(\"green channel showed\")\n",
    "        else:\n",
    "            image[:,:,0] = 0\n",
    "            image[:,:,1] = 0\n",
    "            count = 1\n",
    "            print(\"red channel showed\")\n",
    "    else:\n",
    "        print(\"Not possible to convert to b, g or r\")\n",
    "    return image"
   ]
  },
  {
   "cell_type": "markdown",
   "metadata": {},
   "source": [
    "### f. Function that smooths the image using opencv, pressed \"s\""
   ]
  },
  {
   "cell_type": "code",
   "execution_count": 8,
   "metadata": {},
   "outputs": [],
   "source": [
    "def smooth(self):\n",
    "    n = self\n",
    "    image = reload_image(file)\n",
    "    image = togray(image)\n",
    "    if self != 0:\n",
    "        kernel = np.ones((n,n), np.float32)/(n*n)\n",
    "        image = cv2.filter2D(image, -1, kernel)\n",
    "    cv2.imshow('image', image)"
   ]
  },
  {
   "cell_type": "markdown",
   "metadata": {},
   "source": [
    "### g. Function that smooths the image using own implementation with finction \"conv\", pressed \"S\""
   ]
  },
  {
   "cell_type": "code",
   "execution_count": 9,
   "metadata": {},
   "outputs": [],
   "source": [
    "def smoothown(self):\n",
    "    aux=0\n",
    "    if self%2 !=1:\n",
    "        aux=1\n",
    "    n = self + aux\n",
    "    image = reload_image(file)\n",
    "    image = tograyown(image)\n",
    "    if self != 0:\n",
    "        kernel = np.ones((n,n), np.float32)/(n*n)\n",
    "        image = conv(image, kernel)\n",
    "    cv2.imshow('image', image)"
   ]
  },
  {
   "cell_type": "markdown",
   "metadata": {},
   "source": [
    "### Convolution function"
   ]
  },
  {
   "cell_type": "code",
   "execution_count": 10,
   "metadata": {},
   "outputs": [],
   "source": [
    "def conv(image, kernel):\n",
    "    (iH, iW) = image.shape[:2]\n",
    "    (kH, kW) = kernel.shape[:2]\n",
    "    pad = int(math.floor(kW/2))\n",
    "    image = cv2.copyMakeBorder(image, pad, pad , pad , pad , cv2.BORDER_REPLICATE)\n",
    "    output = np.zeros((iH, iW), dtype=\"float32\")\n",
    "    for y in np.arange(pad, iH + pad):\n",
    "        for x in np.arange(pad, iW + pad):\n",
    "            roi = image[y - pad : y + pad +1, x - pad : x + pad +1]\n",
    "            k = (roi * kernel).sum()\n",
    "            output[y - pad, x - pad] = k\n",
    "    return output.astype(np.uint8)"
   ]
  },
  {
   "cell_type": "markdown",
   "metadata": {},
   "source": [
    "### h. Function that downsamples the image by 2 factor with no smoothing, pressed \"d\""
   ]
  },
  {
   "cell_type": "code",
   "execution_count": 11,
   "metadata": {},
   "outputs": [],
   "source": [
    "def downsample(image):\n",
    "    image = cv2.resize(image, (int(image.shape[1]/2), int(image.shape[0]/2)))\n",
    "    return image"
   ]
  },
  {
   "cell_type": "markdown",
   "metadata": {},
   "source": [
    "### i. Function that downsamples the image by 2 factor with smoothing, pressed \"D\""
   ]
  },
  {
   "cell_type": "code",
   "execution_count": 12,
   "metadata": {},
   "outputs": [],
   "source": [
    "def downsample_smooth(image):\n",
    "    image = cv2.pyrDown(image)\n",
    "    return image"
   ]
  },
  {
   "cell_type": "markdown",
   "metadata": {},
   "source": [
    "### j,k. Function that makes the convolution with a x derivative filter and normalizaed, pressed \"x\" or \"y\""
   ]
  },
  {
   "cell_type": "code",
   "execution_count": 13,
   "metadata": {},
   "outputs": [],
   "source": [
    "def convdevnorm(image,xory):\n",
    "    aux=0\n",
    "    if (xory==1):\n",
    "        aux=0\n",
    "    else:\n",
    "        aux=1\n",
    "    sobelx = cv2.Sobel(image,cv2.CV_64F,xory,aux,ksize=5)\n",
    "    image = cv2.normalize(sobelx, image, alpha = 0, beta = 1,norm_type=cv2.NORM_MINMAX, dtype=cv2.CV_64F)\n",
    "    return image"
   ]
  },
  {
   "cell_type": "markdown",
   "metadata": {},
   "source": [
    "### l. Function that shows magnitude of the gradient computed with x and y derivatives in range [0,255], pressed \"m\""
   ]
  },
  {
   "cell_type": "code",
   "execution_count": 14,
   "metadata": {},
   "outputs": [],
   "source": [
    "def gradient_magnitude(image):\n",
    "    sobelx = cv2.Sobel(image,cv2.CV_64F,1,0,ksize=5)\n",
    "    sobely = cv2.Sobel(image,cv2.CV_64F,0,1,ksize=5)\n",
    "    gradient = cv2.magnitude(sobelx, sobely)\n",
    "    image = cv2.normalize(gradient, image, alpha = 0, beta = 1,norm_type=cv2.NORM_MINMAX, dtype=cv2.CV_64F)\n",
    "    return image"
   ]
  },
  {
   "cell_type": "markdown",
   "metadata": {},
   "source": [
    "### m. Funtion that plots the gradient vectors of the image, pressed \"p\""
   ]
  },
  {
   "cell_type": "code",
   "execution_count": 15,
   "metadata": {},
   "outputs": [],
   "source": [
    "def gradient_vectors(self):\n",
    "    n = self\n",
    "    image = reload_image(file)\n",
    "    image = togray(image)\n",
    "    grad = image\n",
    "    if self != 0:\n",
    "        sobelx = cv2.Sobel(grad,cv2.CV_64F,1,0,ksize=5)\n",
    "        sobely = cv2.Sobel(grad,cv2.CV_64F,0,1,ksize=5)\n",
    "        for x in range(0, grad.shape[0], n):\n",
    "            for y in range(0, grad.shape[1], n):\n",
    "                grad_angle = math.atan2(sobely[x, y], sobelx[x, y])\n",
    "                grad_x = int(x + n * math.cos(grad_angle))\n",
    "                grad_y = int(y + n * math.sin(grad_angle))\n",
    "                cv2.arrowedLine(grad, (y, x), (grad_y, grad_x), (0, 0, 0))\n",
    "    cv2.imshow('image', grad)\n",
    "    image = grad"
   ]
  },
  {
   "cell_type": "markdown",
   "metadata": {},
   "source": [
    "### n. Funtion that rotates the image, pressed \"r\""
   ]
  },
  {
   "cell_type": "code",
   "execution_count": 16,
   "metadata": {},
   "outputs": [],
   "source": [
    "def rotate(self):\n",
    "    n = self\n",
    "    image = reload_image(file)\n",
    "    image = togray(image)\n",
    "    rotated = image\n",
    "    if self != 0:\n",
    "        rot = cv2.getRotationMatrix2D((rotated.shape[1]/2, rotated.shape[0]/2), n, 1)\n",
    "        rotated = cv2.warpAffine(rotated, rot,(rotated.shape[1], rotated.shape[0]))\n",
    "    cv2.imshow('image', rotated)\n",
    "    image = rotated"
   ]
  },
  {
   "cell_type": "markdown",
   "metadata": {},
   "source": [
    "### o. Function that prints help about the use of the keyboard keys for the program , pressed \"h\""
   ]
  },
  {
   "cell_type": "code",
   "execution_count": 17,
   "metadata": {},
   "outputs": [],
   "source": [
    "def help():\n",
    "    print(\"Press ‘i’ to reload the original image. \\n\")\n",
    "    print(\"Press ‘w’ to save the current image into the file 'ouput.jpg' \\n\")\n",
    "    print(\"Press ‘g’ to convert the image to grayscale using the OpenCV conversion function \\n\")\n",
    "    print(\"Press ‘G’ to convert the image to grayscale using your implementation of conversion function. \\n\")\n",
    "    print(\"Press ‘c’ to cycle through the color channels of the image showing a different channel every time the key is pressed. \\n\")\n",
    "    print(\"Press ‘s’ to convert the image to grayscale and smooth it using the openCV function. Use a track bar to control the amount of smoothing. \\n\")\n",
    "    print(\"Press ‘S’ to convert the image to grayscale and smooth it using your function which should perform convolution with a suitable filter. Use a track bar to control the amount of smoothing, \\n\")\n",
    "    print(\"Press ‘d’ to downsample the image by a factor of 2 without smooting. \\n\")\n",
    "    print(\"Press ‘D’ to downsample the image by a factor of 2 with smoothing. \\n\")\n",
    "    print(\"Press ‘x’ to convert the image grayscale and perform convolution with an x derivative filter. Normalize the obtained values to the range [0,255]. \\n\")\n",
    "    print(\"Press ‘y’ to convert the image to grayscale and perform convolution with a y derivative filter. Normalize the obtained values to the range [0,255]. \\n\")\n",
    "    print(\"Press ‘m’ to show the magnitude of the gradient normalized to the range [0,255]. The gradient is computed base don the x and y derivatives of the image. \\n\")\n",
    "    print(\"Press ‘p’ to convert the image to grayscale and plot the gradient vectors of the image every N pixel and let the plotted gradient vectors have a lenght of K. Use a track bar to control N. Plot the vectors as short line segments of length K. \\n\")\n",
    "    print(\"Press ‘r’ to convert the image to grayscale and rotate it using an angle of teta degrees. Use a track bar to control the rotation angle. \\n\")\n",
    "    print(\"Press ‘h’ to display a short description of the program, its command line arguments, and the keys it supports. \\n\")"
   ]
  },
  {
   "cell_type": "markdown",
   "metadata": {},
   "source": [
    "### Converts image to RGB channelels"
   ]
  },
  {
   "cell_type": "code",
   "execution_count": 18,
   "metadata": {},
   "outputs": [],
   "source": [
    "def to3channel(image):\n",
    "    if len(image.shape) == 2:\n",
    "        image = cv2.cvtColor(image, cv2.COLOR_GRAY2BGR)\n",
    "    return image"
   ]
  },
  {
   "cell_type": "markdown",
   "metadata": {},
   "source": [
    "### Main method"
   ]
  },
  {
   "cell_type": "code",
   "execution_count": 19,
   "metadata": {
    "scrolled": false
   },
   "outputs": [],
   "source": [
    "def main():\n",
    "    global image\n",
    "    global file\n",
    "    image, file = get_image()\n",
    "    print(\"Press h for help\")\n",
    "#   count for switching between RGB channels\n",
    "    count = 0 \n",
    "    while(True):\n",
    "        key = cv2.waitKey()\n",
    "        print (key)\n",
    "        if key == ord('i'):\n",
    "            image = reload_image(file)\n",
    "            print(\"'i' key pressed: image reloaded\")\n",
    "        \n",
    "        elif key == ord('w'):\n",
    "            savefile(image)\n",
    "            print(\"'w' key pressed: image saved into out.jpg file\")\n",
    "        \n",
    "        elif key == ord('g'):\n",
    "            image = reload_image(file)\n",
    "            image = togray(image)\n",
    "            print(\"'g' key pressed: convert to grey using openCV method\")  \n",
    "        \n",
    "        elif key == ord('G'):\n",
    "            image = reload_image(file)\n",
    "            image = tograyown(image)\n",
    "            print(\"'G' key pressed: convert to grey using own method\")\n",
    "        \n",
    "        elif key == ord('c'):\n",
    "            count= count + 1\n",
    "            if count > 2:\n",
    "                count = 0\n",
    "            image = reload_image(file)\n",
    "            print(\"'c' key pressed:\")\n",
    "            image = changecolor(image, count)\n",
    "\n",
    "        elif key == ord('s'):\n",
    "            image = reload_image(file)\n",
    "            image = togray(image)\n",
    "            cv2.imshow('image', image)\n",
    "            print(\"'s' key pressed: Image to grayscale and smooth track bar created using openCV\")\n",
    "            cv2.createTrackbar('s', 'image', 0, 255, smooth)\n",
    "        \n",
    "        elif key == ord('S'):\n",
    "            image = reload_image(file)\n",
    "            image = tograyown(image)\n",
    "            cv2.imshow('image', image)\n",
    "            print(\"'S' key pressed: Image to grayscale and smooth track bar created using own method\")\n",
    "            cv2.createTrackbar('S', 'image', 0, 20, smoothown)\n",
    "        \n",
    "        elif key == ord('d'):\n",
    "            image = reload_image(file)\n",
    "            image = downsample(image)\n",
    "            print(\"'d' key pressed: downsample 2 factor with no smoothing\")\n",
    "        \n",
    "        elif key == ord('D'):\n",
    "            image = reload_image(file)\n",
    "            image = downsample_smooth(image)\n",
    "            print(\"'D' key pressed: downsample 2 factor with smoothing\")\n",
    "        \n",
    "        elif key == ord('x'):\n",
    "            image = reload_image(file)\n",
    "            image = togray(image)\n",
    "            image = convdevnorm(image, 1)\n",
    "            print(\"'x' key pressed: convert to grayscale, convolution with x derivative filter\")\n",
    "\n",
    "        elif key == ord('y'):\n",
    "            image = reload_image(file)\n",
    "            image = togray(image)\n",
    "            image = convdevnorm(image, 0)\n",
    "            print(\"'y' key pressed: convert to grayscale, convolution with x derivative filter\")\n",
    "\n",
    "        elif key == ord('m'):\n",
    "            image = reload_image(file)\n",
    "            image = togray(image)\n",
    "            image = gradient_magnitude(image)\n",
    "            print(\"'m' key pressed: show magnitude of gradient computed with x and y derivatives to range [0,255]\")\n",
    "        \n",
    "        elif key == ord('p'):\n",
    "            image = reload_image(file)\n",
    "            image = togray(image)\n",
    "            print(\"'p' key pressed: convert image to grayscale and plot gradient vectors\")\n",
    "            cv2.createTrackbar('p', 'image', 0,255, gradient_vectors)\n",
    "        \n",
    "        elif key == ord('r'):\n",
    "            image = reload_image(file)\n",
    "            image = togray(image)\n",
    "            print(\"'r' key pressed: convert image to grayscale and rotate x degrees\")\n",
    "            cv2.createTrackbar('r', 'image', 0, 360, rotate)\n",
    "            \n",
    "        elif key == ord('h'):\n",
    "            print(\"'h' key pressed: description of key functions:\")\n",
    "            help()\n",
    "\n",
    "        elif key == 27:\n",
    "            cv2.destroyAllWindows()\n",
    "            print(\"'Esc' key pressed: Program Closed!\")\n",
    "            break\n",
    "        else:\n",
    "            print(\"Wrong key pressed, press 'h' for help\")\n",
    "        cv2.imshow('image', image)"
   ]
  },
  {
   "cell_type": "code",
   "execution_count": 20,
   "metadata": {},
   "outputs": [
    {
     "name": "stdout",
     "output_type": "stream",
     "text": [
      "Write the file name path or press enter to capture an image: \n",
      "\n",
      "Press h for help\n",
      "27\n",
      "'Esc' key pressed: Program Closed!\n"
     ]
    }
   ],
   "source": [
    "main()"
   ]
  }
 ],
 "metadata": {
  "kernelspec": {
   "display_name": "Python 3",
   "language": "python",
   "name": "python3"
  },
  "language_info": {
   "codemirror_mode": {
    "name": "ipython",
    "version": 3
   },
   "file_extension": ".py",
   "mimetype": "text/x-python",
   "name": "python",
   "nbconvert_exporter": "python",
   "pygments_lexer": "ipython3",
   "version": "3.7.4"
  }
 },
 "nbformat": 4,
 "nbformat_minor": 2
}
