{
 "cells": [
  {
   "cell_type": "markdown",
   "metadata": {},
   "source": [
    "# CS512 - Assignment 3"
   ]
  },
  {
   "cell_type": "markdown",
   "metadata": {},
   "source": [
    "## Akshay R (A20442409)"
   ]
  },
  {
   "cell_type": "code",
   "execution_count": 2,
   "metadata": {},
   "outputs": [
    {
     "name": "stderr",
     "output_type": "stream",
     "text": [
      "Using TensorFlow backend.\n"
     ]
    }
   ],
   "source": [
    "import time\n",
    "import matplotlib.pyplot as plt\n",
    "import matplotlib.image as mpimg\n",
    "import numpy as np\n",
    "import itertools\n",
    "\n",
    "from keras import layers\n",
    "from keras import models\n",
    "from keras.models import Sequential\n",
    "from keras.layers import Dense, Dropout, Flatten, Conv2D, MaxPool2D\n",
    "from keras import backend as K\n",
    "import itertools\n",
    "from keras.layers.normalization import BatchNormalization\n",
    "from keras.utils.np_utils import to_categorical\n",
    "from sklearn.model_selection import train_test_split"
   ]
  },
  {
   "cell_type": "code",
   "execution_count": 3,
   "metadata": {},
   "outputs": [],
   "source": [
    "from keras.datasets import mnist"
   ]
  },
  {
   "cell_type": "code",
   "execution_count": 4,
   "metadata": {},
   "outputs": [],
   "source": [
    "(x_train, y_train), (x_test, y_test) = mnist.load_data()"
   ]
  },
  {
   "cell_type": "markdown",
   "metadata": {},
   "source": [
    "#### Pre-processing"
   ]
  },
  {
   "cell_type": "code",
   "execution_count": 5,
   "metadata": {},
   "outputs": [],
   "source": [
    "# Merge x_train and x_test\n",
    "data = np.zeros((70000, 28, 28),dtype=int)\n",
    "for i in range(60000):\n",
    "    data[i] = x_train[i]\n",
    "for i in range(10000):\n",
    "    data[60000 + i] = x_test[i]\n",
    "\n",
    "# Merge y_train and y_test\n",
    "labels = np.zeros(70000, dtype=int)\n",
    "for i in range(60000):\n",
    "    labels[i] = y_train[i]\n",
    "for i in range(10000):\n",
    "    labels[60000 + i] = y_test[i]"
   ]
  },
  {
   "cell_type": "code",
   "execution_count": 6,
   "metadata": {},
   "outputs": [],
   "source": [
    "# Assign odd or even labels\n",
    "# labels = 0 :: even , labels = 1 :: odd\n",
    "for i in range (70000):\n",
    "    if((labels[i] % 2) == 0):\n",
    "        labels[i] = 0\n",
    "    else:\n",
    "        labels[i] = 1"
   ]
  },
  {
   "cell_type": "code",
   "execution_count": 7,
   "metadata": {},
   "outputs": [],
   "source": [
    "# Create train test datasets, train will be further split nto train and validation datasets:\n",
    "x_train, x_test, y_train, y_test = train_test_split(data, labels, test_size=5000)"
   ]
  },
  {
   "cell_type": "code",
   "execution_count": 8,
   "metadata": {},
   "outputs": [],
   "source": [
    "# Standardize the data:\n",
    "x_train_mean = np.mean(x_train)\n",
    "x_train_std  = np.std(x_train)\n",
    "\n",
    "x_test_mean = np.mean(x_test)\n",
    "x_test_std = np.std(x_test)\n",
    "\n",
    "x_train = (x_train - x_train_mean) / x_train_std\n",
    "x_test  = (x_test - x_test_mean) / x_test_std "
   ]
  },
  {
   "cell_type": "code",
   "execution_count": 9,
   "metadata": {},
   "outputs": [],
   "source": [
    "# Convert lables to categorical labels\n",
    "y_train = to_categorical(y_train)\n",
    "y_test = to_categorical(y_test)"
   ]
  },
  {
   "cell_type": "code",
   "execution_count": 10,
   "metadata": {},
   "outputs": [],
   "source": [
    "# Create train and validation data sets:\n",
    "x_train, x_val, y_train, y_val = train_test_split(x_train, y_train, train_size = 55000)"
   ]
  },
  {
   "cell_type": "code",
   "execution_count": 11,
   "metadata": {},
   "outputs": [
    {
     "data": {
      "text/plain": [
       "array([[-0.42446415, -0.42446415, -0.42446415, -0.42446415, -0.42446415,\n",
       "        -0.42446415, -0.42446415, -0.42446415, -0.42446415, -0.42446415,\n",
       "        -0.42446415, -0.42446415, -0.42446415, -0.42446415, -0.42446415,\n",
       "        -0.42446415, -0.42446415, -0.42446415, -0.42446415, -0.42446415,\n",
       "        -0.42446415, -0.42446415, -0.42446415, -0.42446415, -0.42446415,\n",
       "        -0.42446415, -0.42446415, -0.42446415],\n",
       "       [-0.42446415, -0.42446415, -0.42446415, -0.42446415, -0.42446415,\n",
       "        -0.42446415, -0.42446415, -0.42446415, -0.42446415, -0.42446415,\n",
       "        -0.42446415, -0.42446415, -0.42446415, -0.42446415, -0.42446415,\n",
       "        -0.42446415, -0.42446415, -0.42446415, -0.42446415, -0.42446415,\n",
       "        -0.42446415, -0.42446415, -0.42446415, -0.42446415, -0.42446415,\n",
       "        -0.42446415, -0.42446415, -0.42446415],\n",
       "       [-0.42446415, -0.42446415, -0.42446415, -0.42446415, -0.42446415,\n",
       "        -0.42446415, -0.42446415, -0.42446415, -0.42446415, -0.42446415,\n",
       "        -0.42446415, -0.42446415, -0.42446415, -0.42446415, -0.42446415,\n",
       "        -0.42446415, -0.42446415, -0.42446415, -0.42446415, -0.42446415,\n",
       "        -0.42446415, -0.42446415, -0.42446415, -0.42446415, -0.42446415,\n",
       "        -0.42446415, -0.42446415, -0.42446415],\n",
       "       [-0.42446415, -0.42446415, -0.42446415, -0.42446415, -0.42446415,\n",
       "        -0.42446415, -0.42446415, -0.42446415, -0.42446415, -0.42446415,\n",
       "        -0.42446415, -0.42446415, -0.42446415, -0.42446415, -0.42446415,\n",
       "        -0.42446415, -0.42446415, -0.42446415, -0.42446415, -0.42446415,\n",
       "        -0.42446415, -0.42446415, -0.42446415, -0.42446415, -0.42446415,\n",
       "        -0.42446415, -0.42446415, -0.42446415],\n",
       "       [-0.42446415, -0.42446415, -0.42446415, -0.42446415, -0.42446415,\n",
       "        -0.42446415, -0.42446415, -0.42446415, -0.42446415, -0.42446415,\n",
       "        -0.42446415, -0.42446415, -0.42446415, -0.42446415, -0.42446415,\n",
       "        -0.42446415, -0.42446415, -0.42446415, -0.42446415, -0.42446415,\n",
       "        -0.42446415, -0.42446415, -0.42446415, -0.42446415, -0.42446415,\n",
       "        -0.42446415, -0.42446415, -0.42446415],\n",
       "       [-0.42446415, -0.42446415, -0.42446415, -0.42446415, -0.42446415,\n",
       "        -0.42446415, -0.42446415, -0.42446415, -0.42446415, -0.42446415,\n",
       "        -0.42446415, -0.42446415, -0.42446415, -0.42446415, -0.42446415,\n",
       "        -0.42446415, -0.42446415, -0.42446415, -0.42446415, -0.42446415,\n",
       "        -0.42446415, -0.42446415, -0.42446415, -0.42446415, -0.42446415,\n",
       "        -0.42446415, -0.42446415, -0.42446415],\n",
       "       [-0.42446415, -0.42446415, -0.42446415, -0.42446415, -0.42446415,\n",
       "        -0.42446415, -0.42446415, -0.42446415, -0.42446415, -0.42446415,\n",
       "        -0.42446415, -0.42446415, -0.42446415, -0.42446415, -0.42446415,\n",
       "        -0.31003977, -0.05576338,  1.19019094,  1.19019094,  0.974056  ,\n",
       "        -0.34818123, -0.42446415, -0.42446415, -0.42446415, -0.42446415,\n",
       "        -0.42446415, -0.42446415, -0.42446415],\n",
       "       [-0.42446415, -0.42446415, -0.42446415, -0.42446415, -0.42446415,\n",
       "        -0.42446415, -0.42446415, -0.42446415, -0.42446415, -0.42446415,\n",
       "        -0.42446415, -0.01762192,  0.73249343,  1.72417136,  1.73688518,\n",
       "         2.16915504,  2.70313547,  2.77941838,  2.77941838,  2.7921322 ,\n",
       "         0.37650648, -0.42446415, -0.42446415, -0.42446415, -0.42446415,\n",
       "        -0.42446415, -0.42446415, -0.42446415],\n",
       "       [-0.42446415, -0.42446415, -0.42446415, -0.42446415, -0.42446415,\n",
       "        -0.42446415, -0.42446415, -0.42446415, -0.42446415, -0.42446415,\n",
       "         0.59264142,  2.41071762,  2.77941838,  2.77941838,  2.57599727,\n",
       "         1.88945101,  1.99116157,  0.10951627,  2.34714852,  2.7921322 ,\n",
       "         0.37650648, -0.42446415, -0.42446415, -0.42446415, -0.42446415,\n",
       "        -0.42446415, -0.42446415, -0.42446415],\n",
       "       [-0.42446415, -0.42446415, -0.42446415, -0.42446415, -0.42446415,\n",
       "        -0.42446415, -0.42446415, -0.42446415,  0.59264142,  2.24543796,\n",
       "         2.7921322 ,  2.7921322 ,  2.7921322 ,  2.57599727,  0.14765773,\n",
       "        -0.42446415, -0.42446415, -0.28461213,  2.35986234,  2.81755984,\n",
       "         0.37650648, -0.42446415, -0.42446415, -0.42446415, -0.42446415,\n",
       "        -0.42446415, -0.42446415, -0.42446415],\n",
       "       [-0.42446415, -0.42446415, -0.42446415, -0.42446415, -0.42446415,\n",
       "        -0.42446415, -0.42446415, -0.42446415,  2.25815178,  2.7921322 ,\n",
       "         1.52075025,  0.5799276 ,  2.51242817,  0.26208211, -0.42446415,\n",
       "        -0.42446415, -0.42446415,  0.3892203 ,  2.77941838,  2.3980038 ,\n",
       "        -0.22104304, -0.42446415, -0.42446415, -0.42446415, -0.42446415,\n",
       "        -0.42446415, -0.42446415, -0.42446415],\n",
       "       [-0.42446415, -0.42446415, -0.42446415, -0.42446415, -0.42446415,\n",
       "        -0.42446415, -0.42446415, -0.42446415,  1.46989497,  0.96134218,\n",
       "        -0.36089505, -0.39903651, -0.22104304, -0.42446415, -0.42446415,\n",
       "        -0.42446415, -0.42446415,  1.60974698,  2.77941838,  1.0376251 ,\n",
       "        -0.42446415, -0.42446415, -0.42446415, -0.42446415, -0.42446415,\n",
       "        -0.42446415, -0.42446415, -0.42446415],\n",
       "       [-0.42446415, -0.42446415, -0.42446415, -0.42446415, -0.42446415,\n",
       "        -0.42446415, -0.42446415, -0.42446415, -0.42446415, -0.42446415,\n",
       "        -0.42446415, -0.42446415, -0.42446415, -0.42446415, -0.42446415,\n",
       "        -0.42446415, -0.23375686,  2.43614525,  2.77941838,  0.59264142,\n",
       "        -0.42446415, -0.42446415, -0.42446415, -0.42446415, -0.42446415,\n",
       "        -0.42446415, -0.42446415, -0.42446415],\n",
       "       [-0.42446415, -0.42446415, -0.42446415, -0.42446415, -0.42446415,\n",
       "        -0.42446415, -0.42446415, -0.42446415, -0.42446415, -0.42446415,\n",
       "        -0.42446415, -0.42446415, -0.42446415, -0.42446415, -0.42446415,\n",
       "        -0.42446415,  0.41464794,  2.77941838,  2.22001032, -0.42446415,\n",
       "        -0.42446415, -0.42446415, -0.42446415, -0.42446415, -0.42446415,\n",
       "        -0.42446415, -0.42446415, -0.42446415],\n",
       "       [-0.42446415, -0.42446415, -0.42446415, -0.42446415, -0.42446415,\n",
       "        -0.42446415, -0.42446415, -0.42446415, -0.42446415, -0.42446415,\n",
       "        -0.42446415, -0.42446415, -0.42446415, -0.42446415, -0.42446415,\n",
       "         0.21122683,  2.69042165,  2.7921322 ,  0.66892433, -0.42446415,\n",
       "        -0.42446415, -0.42446415, -0.42446415, -0.42446415, -0.42446415,\n",
       "        -0.42446415, -0.42446415, -0.42446415],\n",
       "       [-0.42446415, -0.42446415, -0.42446415, -0.42446415, -0.42446415,\n",
       "        -0.42446415, -0.42446415, -0.42446415, -0.42446415, -0.42446415,\n",
       "        -0.42446415, -0.42446415, -0.42446415, -0.42446415, -0.23375686,\n",
       "         1.92759247,  2.77941838,  1.72417136, -0.28461213, -0.42446415,\n",
       "        -0.42446415, -0.42446415, -0.42446415, -0.42446415, -0.42446415,\n",
       "        -0.42446415, -0.42446415, -0.42446415],\n",
       "       [-0.42446415, -0.42446415, -0.42446415, -0.42446415, -0.42446415,\n",
       "        -0.42446415, -0.42446415, -0.42446415, -0.42446415, -0.42446415,\n",
       "        -0.42446415, -0.28461213, -0.14476012,  0.41464794,  2.01658921,\n",
       "         2.77941838,  2.56328345, -0.0684772 , -0.14476012, -0.31003977,\n",
       "        -0.42446415, -0.42446415, -0.42446415, -0.42446415, -0.42446415,\n",
       "        -0.42446415, -0.42446415, -0.42446415],\n",
       "       [-0.42446415, -0.42446415, -0.42446415, -0.42446415, -0.42446415,\n",
       "        -0.42446415, -0.42446415, -0.42446415,  0.26208211,  1.72417136,\n",
       "         1.72417136,  2.25815178,  2.77941838,  2.77941838,  2.7921322 ,\n",
       "         2.77941838,  2.77941838,  2.77941838,  2.77941838,  2.16915504,\n",
       "         1.26647385, -0.01762192, -0.42446415, -0.42446415, -0.42446415,\n",
       "        -0.42446415, -0.42446415, -0.42446415],\n",
       "       [-0.42446415, -0.42446415, -0.42446415, -0.42446415, -0.1956154 ,\n",
       "         1.36818441,  1.15204948,  1.92759247,  1.35547059,  1.44446733,\n",
       "         2.44885907,  2.77941838,  2.77941838,  2.77941838,  1.44446733,\n",
       "         0.99948364,  1.33004295,  1.44446733,  1.44446733,  2.23272414,\n",
       "         2.77941838,  2.41071762,  0.59264142, -0.42446415, -0.42446415,\n",
       "        -0.42446415, -0.42446415, -0.42446415],\n",
       "       [-0.42446415, -0.42446415, -0.42446415, -0.42446415,  0.91048691,\n",
       "         2.7921322 ,  2.57599727,  0.12223009,  1.22833239,  2.24543796,\n",
       "         2.7921322 ,  2.52514199,  1.35547059, -0.1956154 , -0.42446415,\n",
       "        -0.42446415, -0.42446415, -0.42446415, -0.42446415, -0.42446415,\n",
       "         1.05033892,  2.30900706,  2.7921322 ,  2.7921322 , -0.42446415,\n",
       "        -0.42446415, -0.42446415, -0.42446415],\n",
       "       [-0.42446415, -0.42446415, -0.42446415, -0.42446415,  2.46157289,\n",
       "         2.77941838,  2.77941838,  2.77941838,  2.77941838,  2.16915504,\n",
       "         1.25376003, -0.01762192, -0.42446415, -0.42446415, -0.42446415,\n",
       "        -0.42446415, -0.42446415, -0.42446415, -0.42446415, -0.42446415,\n",
       "        -0.42446415, -0.34818123,  0.70706579,  1.71145754, -0.42446415,\n",
       "        -0.42446415, -0.42446415, -0.42446415],\n",
       "       [-0.42446415, -0.42446415, -0.42446415, -0.42446415,  0.63078288,\n",
       "         1.17747712,  1.17747712,  0.84691781, -0.15747394, -0.31003977,\n",
       "        -0.42446415, -0.42446415, -0.42446415, -0.42446415, -0.42446415,\n",
       "        -0.42446415, -0.42446415, -0.42446415, -0.42446415, -0.42446415,\n",
       "        -0.42446415, -0.42446415, -0.42446415, -0.42446415, -0.42446415,\n",
       "        -0.42446415, -0.42446415, -0.42446415],\n",
       "       [-0.42446415, -0.42446415, -0.42446415, -0.42446415, -0.42446415,\n",
       "        -0.42446415, -0.42446415, -0.42446415, -0.42446415, -0.42446415,\n",
       "        -0.42446415, -0.42446415, -0.42446415, -0.42446415, -0.42446415,\n",
       "        -0.42446415, -0.42446415, -0.42446415, -0.42446415, -0.42446415,\n",
       "        -0.42446415, -0.42446415, -0.42446415, -0.42446415, -0.42446415,\n",
       "        -0.42446415, -0.42446415, -0.42446415],\n",
       "       [-0.42446415, -0.42446415, -0.42446415, -0.42446415, -0.42446415,\n",
       "        -0.42446415, -0.42446415, -0.42446415, -0.42446415, -0.42446415,\n",
       "        -0.42446415, -0.42446415, -0.42446415, -0.42446415, -0.42446415,\n",
       "        -0.42446415, -0.42446415, -0.42446415, -0.42446415, -0.42446415,\n",
       "        -0.42446415, -0.42446415, -0.42446415, -0.42446415, -0.42446415,\n",
       "        -0.42446415, -0.42446415, -0.42446415],\n",
       "       [-0.42446415, -0.42446415, -0.42446415, -0.42446415, -0.42446415,\n",
       "        -0.42446415, -0.42446415, -0.42446415, -0.42446415, -0.42446415,\n",
       "        -0.42446415, -0.42446415, -0.42446415, -0.42446415, -0.42446415,\n",
       "        -0.42446415, -0.42446415, -0.42446415, -0.42446415, -0.42446415,\n",
       "        -0.42446415, -0.42446415, -0.42446415, -0.42446415, -0.42446415,\n",
       "        -0.42446415, -0.42446415, -0.42446415],\n",
       "       [-0.42446415, -0.42446415, -0.42446415, -0.42446415, -0.42446415,\n",
       "        -0.42446415, -0.42446415, -0.42446415, -0.42446415, -0.42446415,\n",
       "        -0.42446415, -0.42446415, -0.42446415, -0.42446415, -0.42446415,\n",
       "        -0.42446415, -0.42446415, -0.42446415, -0.42446415, -0.42446415,\n",
       "        -0.42446415, -0.42446415, -0.42446415, -0.42446415, -0.42446415,\n",
       "        -0.42446415, -0.42446415, -0.42446415],\n",
       "       [-0.42446415, -0.42446415, -0.42446415, -0.42446415, -0.42446415,\n",
       "        -0.42446415, -0.42446415, -0.42446415, -0.42446415, -0.42446415,\n",
       "        -0.42446415, -0.42446415, -0.42446415, -0.42446415, -0.42446415,\n",
       "        -0.42446415, -0.42446415, -0.42446415, -0.42446415, -0.42446415,\n",
       "        -0.42446415, -0.42446415, -0.42446415, -0.42446415, -0.42446415,\n",
       "        -0.42446415, -0.42446415, -0.42446415],\n",
       "       [-0.42446415, -0.42446415, -0.42446415, -0.42446415, -0.42446415,\n",
       "        -0.42446415, -0.42446415, -0.42446415, -0.42446415, -0.42446415,\n",
       "        -0.42446415, -0.42446415, -0.42446415, -0.42446415, -0.42446415,\n",
       "        -0.42446415, -0.42446415, -0.42446415, -0.42446415, -0.42446415,\n",
       "        -0.42446415, -0.42446415, -0.42446415, -0.42446415, -0.42446415,\n",
       "        -0.42446415, -0.42446415, -0.42446415]])"
      ]
     },
     "execution_count": 11,
     "metadata": {},
     "output_type": "execute_result"
    }
   ],
   "source": [
    "x_train[1]"
   ]
  },
  {
   "cell_type": "code",
   "execution_count": 10,
   "metadata": {},
   "outputs": [
    {
     "name": "stdout",
     "output_type": "stream",
     "text": [
      "x_train :: (55000, 28, 28, 1)\n",
      "x_val   :: (10000, 28, 28, 1)\n",
      "x_test  :: (5000, 28, 28, 1)\n",
      "y_train :: (55000, 2)\n",
      "y_val   :: (10000, 2)\n",
      "y_test  :: (5000, 2)\n"
     ]
    }
   ],
   "source": [
    "x_train = x_train.reshape(55000, 28, 28, 1)\n",
    "x_val = x_val.reshape(10000, 28, 28, 1)\n",
    "x_test = x_test.reshape(5000, 28, 28, 1)\n",
    "print(\"x_train ::\", x_train.shape)\n",
    "print(\"x_val   ::\", x_val.shape)\n",
    "print(\"x_test  ::\", x_test.shape)\n",
    "print(\"y_train ::\", y_train.shape)\n",
    "print(\"y_val   ::\", y_val.shape)\n",
    "print(\"y_test  ::\", y_test.shape)"
   ]
  },
  {
   "cell_type": "markdown",
   "metadata": {},
   "source": [
    "### Question 1:"
   ]
  },
  {
   "cell_type": "markdown",
   "metadata": {},
   "source": [
    "#### Construct and train CNN"
   ]
  },
  {
   "cell_type": "code",
   "execution_count": 11,
   "metadata": {},
   "outputs": [
    {
     "name": "stdout",
     "output_type": "stream",
     "text": [
      "Model: \"sequential_1\"\n",
      "_________________________________________________________________\n",
      "Layer (type)                 Output Shape              Param #   \n",
      "=================================================================\n",
      "conv2d_1 (Conv2D)            (None, 24, 24, 32)        832       \n",
      "_________________________________________________________________\n",
      "max_pooling2d_1 (MaxPooling2 (None, 12, 12, 32)        0         \n",
      "_________________________________________________________________\n",
      "conv2d_2 (Conv2D)            (None, 8, 8, 64)          51264     \n",
      "_________________________________________________________________\n",
      "max_pooling2d_2 (MaxPooling2 (None, 4, 4, 64)          0         \n",
      "_________________________________________________________________\n",
      "dropout_1 (Dropout)          (None, 4, 4, 64)          0         \n",
      "_________________________________________________________________\n",
      "flatten_1 (Flatten)          (None, 1024)              0         \n",
      "_________________________________________________________________\n",
      "dense_1 (Dense)              (None, 512)               524800    \n",
      "_________________________________________________________________\n",
      "dense_2 (Dense)              (None, 2)                 1026      \n",
      "=================================================================\n",
      "Total params: 577,922\n",
      "Trainable params: 577,922\n",
      "Non-trainable params: 0\n",
      "_________________________________________________________________\n"
     ]
    }
   ],
   "source": [
    "# Create model\n",
    "model = models.Sequential()\n",
    "\n",
    "model.add(layers.Conv2D(32, (5, 5), activation = 'relu', input_shape = (28, 28, 1)))\n",
    "model.add(layers.MaxPooling2D((2, 2)))\n",
    "\n",
    "model.add(layers.Conv2D(64, (5, 5), activation = 'relu'))\n",
    "model.add(layers.MaxPooling2D((2, 2)))\n",
    "\n",
    "model.add(Dropout(0.50))\n",
    "\n",
    "model.add(layers.Flatten())\n",
    "\n",
    "model.add(layers.Dense(512, activation = 'relu'))\n",
    "model.add(layers.Dense(2,activation = 'softmax'))\n",
    "\n",
    "model.summary()"
   ]
  },
  {
   "cell_type": "code",
   "execution_count": 12,
   "metadata": {},
   "outputs": [],
   "source": [
    "from keras import optimizers\n",
    "model.compile(\n",
    "    loss = 'binary_crossentropy',\n",
    "    optimizer = optimizers.RMSprop(lr = 1e-5),\n",
    "    metrics = ['acc'])"
   ]
  },
  {
   "cell_type": "code",
   "execution_count": 13,
   "metadata": {
    "scrolled": false
   },
   "outputs": [
    {
     "name": "stdout",
     "output_type": "stream",
     "text": [
      "Train on 55000 samples, validate on 10000 samples\n",
      "Epoch 1/10\n",
      "55000/55000 [==============================] - 20s 357us/step - loss: 0.4635 - acc: 0.7952 - val_loss: 0.3024 - val_acc: 0.8814\n",
      "Epoch 2/10\n",
      "55000/55000 [==============================] - 19s 350us/step - loss: 0.2946 - acc: 0.8809 - val_loss: 0.2168 - val_acc: 0.9186\n",
      "Epoch 3/10\n",
      "55000/55000 [==============================] - 19s 351us/step - loss: 0.2274 - acc: 0.9124 - val_loss: 0.1640 - val_acc: 0.9411\n",
      "Epoch 4/10\n",
      "55000/55000 [==============================] - 21s 385us/step - loss: 0.1832 - acc: 0.9324 - val_loss: 0.1342 - val_acc: 0.9534\n",
      "Epoch 5/10\n",
      "55000/55000 [==============================] - 34s 622us/step - loss: 0.1545 - acc: 0.9442 - val_loss: 0.1106 - val_acc: 0.9626\n",
      "Epoch 6/10\n",
      "55000/55000 [==============================] - 26s 474us/step - loss: 0.1324 - acc: 0.9533 - val_loss: 0.0965 - val_acc: 0.9666\n",
      "Epoch 7/10\n",
      "55000/55000 [==============================] - 22s 408us/step - loss: 0.1171 - acc: 0.9585 - val_loss: 0.0863 - val_acc: 0.9694\n",
      "Epoch 8/10\n",
      "55000/55000 [==============================] - 23s 411us/step - loss: 0.1074 - acc: 0.9622 - val_loss: 0.0787 - val_acc: 0.9724\n",
      "Epoch 9/10\n",
      "55000/55000 [==============================] - 24s 438us/step - loss: 0.0981 - acc: 0.9655 - val_loss: 0.0731 - val_acc: 0.9737\n",
      "Epoch 10/10\n",
      "55000/55000 [==============================] - 25s 450us/step - loss: 0.0903 - acc: 0.9673 - val_loss: 0.0691 - val_acc: 0.9757\n"
     ]
    }
   ],
   "source": [
    "history = model.fit(x_train, y_train,\n",
    "                    epochs=10,\n",
    "                    batch_size = 100,\n",
    "                    validation_data = (x_val, y_val),\n",
    "                    verbose = 1)\n",
    "model.save(\"basic_odd_or_even.h5\")"
   ]
  },
  {
   "cell_type": "code",
   "execution_count": 14,
   "metadata": {},
   "outputs": [
    {
     "name": "stdout",
     "output_type": "stream",
     "text": [
      "The accuracy of the last step while training:  0.96729094\n",
      "The loss of the last step while training:  0.09027373099530285\n"
     ]
    }
   ],
   "source": [
    "print(\"The accuracy of the last step while training: \", str(history.history['acc'][-1]))\n",
    "print(\"The loss of the last step while training: \", str(history.history['loss'][-1]))"
   ]
  },
  {
   "cell_type": "code",
   "execution_count": 15,
   "metadata": {},
   "outputs": [
    {
     "data": {
      "image/png": "[encoded data removed]",
      "text/plain": [
       "<Figure size 432x288 with 1 Axes>"
      ]
     },
     "metadata": {
      "needs_background": "light"
     },
     "output_type": "display_data"
    },
    {
     "data": {
      "image/png": "[encoded data removed]",
      "text/plain": [
       "<Figure size 432x288 with 1 Axes>"
      ]
     },
     "metadata": {
      "needs_background": "light"
     },
     "output_type": "display_data"
    }
   ],
   "source": [
    "#model results\n",
    "import matplotlib.pyplot as plt\n",
    "acc = history.history['acc']\n",
    "val_acc = history.history['val_acc']\n",
    "loss = history.history['loss']\n",
    "val_loss = history.history['val_loss']\n",
    "epochs = range(1, len(acc) + 1)\n",
    "\n",
    "plt.plot(epochs, acc, 'b', label = 'Training Accuracy')\n",
    "plt.plot(epochs, val_acc, 'r', label = 'Validation Accuracy')\n",
    "plt.title('Training and validation accuracy of model')\n",
    "plt.legend()\n",
    "\n",
    "plt.figure()\n",
    "plt.plot(epochs, loss, 'b', label = 'Training Loss')\n",
    "plt.plot(epochs, val_loss, 'r', label = 'Validation Loss')\n",
    "plt.title('Training and validation loss of model')\n",
    "plt.legend()\n",
    "plt.show()"
   ]
  },
  {
   "cell_type": "code",
   "execution_count": 16,
   "metadata": {
    "scrolled": true
   },
   "outputs": [
    {
     "name": "stdout",
     "output_type": "stream",
     "text": [
      "5000/5000 [==============================] - 1s 148us/step\n",
      "10000/10000 [==============================] - 2s 152us/step\n",
      "Validation: accuracy = 0.975700  ;  loss_v = 0.069086\n",
      "Test: accuracy = 0.978600  ;  loss = 0.068771\n"
     ]
    }
   ],
   "source": [
    "# Test and Validation accuracy on the test dataset\n",
    "loss0, accuracy0 = model.evaluate(x_test, y_test, verbose=1)\n",
    "loss_v0, accuracy_v0 = model.evaluate(x_val, y_val, verbose=1)\n",
    "print(\"Validation: accuracy = %f  ;  loss_v = %f\" % (accuracy_v0, loss_v0))\n",
    "print(\"Test: accuracy = %f  ;  loss = %f\" % (accuracy0, loss0))"
   ]
  },
  {
   "cell_type": "markdown",
   "metadata": {},
   "source": [
    "### Question 2"
   ]
  },
  {
   "cell_type": "markdown",
   "metadata": {},
   "source": [
    "#### Hyper parameter tuning"
   ]
  },
  {
   "cell_type": "markdown",
   "metadata": {},
   "source": [
    "#### a) Change the network architecture"
   ]
  },
  {
   "cell_type": "code",
   "execution_count": 17,
   "metadata": {
    "scrolled": false
   },
   "outputs": [
    {
     "name": "stdout",
     "output_type": "stream",
     "text": [
      "Model: \"sequential_2\"\n",
      "_________________________________________________________________\n",
      "Layer (type)                 Output Shape              Param #   \n",
      "=================================================================\n",
      "conv2d_3 (Conv2D)            (None, 26, 26, 32)        320       \n",
      "_________________________________________________________________\n",
      "max_pooling2d_3 (MaxPooling2 (None, 13, 13, 32)        0         \n",
      "_________________________________________________________________\n",
      "conv2d_4 (Conv2D)            (None, 11, 11, 32)        9248      \n",
      "_________________________________________________________________\n",
      "max_pooling2d_4 (MaxPooling2 (None, 5, 5, 32)          0         \n",
      "_________________________________________________________________\n",
      "conv2d_5 (Conv2D)            (None, 3, 3, 32)          9248      \n",
      "_________________________________________________________________\n",
      "max_pooling2d_5 (MaxPooling2 (None, 1, 1, 32)          0         \n",
      "_________________________________________________________________\n",
      "dropout_2 (Dropout)          (None, 1, 1, 32)          0         \n",
      "_________________________________________________________________\n",
      "flatten_2 (Flatten)          (None, 32)                0         \n",
      "_________________________________________________________________\n",
      "dense_3 (Dense)              (None, 512)               16896     \n",
      "_________________________________________________________________\n",
      "dense_4 (Dense)              (None, 2)                 1026      \n",
      "=================================================================\n",
      "Total params: 36,738\n",
      "Trainable params: 36,738\n",
      "Non-trainable params: 0\n",
      "_________________________________________________________________\n"
     ]
    }
   ],
   "source": [
    "model1 = models.Sequential()\n",
    "\n",
    "model1.add(layers.Conv2D(32, (3, 3), activation = 'relu', input_shape = (28, 28, 1)))\n",
    "model1.add(layers.MaxPooling2D((2, 2)))\n",
    "\n",
    "model1.add(layers.Conv2D(32, (3, 3), activation = 'relu'))\n",
    "model1.add(layers.MaxPooling2D((2, 2)))\n",
    "\n",
    "model1.add(layers.Conv2D(32, (3, 3), activation = 'relu'))\n",
    "model1.add(layers.MaxPooling2D((2, 2)))\n",
    "\n",
    "model1.add(Dropout(0.50))\n",
    "\n",
    "model1.add(layers.Flatten())\n",
    "\n",
    "model1.add(layers.Dense(512, activation = 'relu'))\n",
    "model1.add(layers.Dense(2,activation = 'softmax'))\n",
    "\n",
    "model1.summary()"
   ]
  },
  {
   "cell_type": "code",
   "execution_count": 18,
   "metadata": {
    "scrolled": true
   },
   "outputs": [
    {
     "name": "stdout",
     "output_type": "stream",
     "text": [
      "Train on 55000 samples, validate on 10000 samples\n",
      "Epoch 1/10\n",
      "55000/55000 [==============================] - 15s 268us/step - loss: 0.6855 - acc: 0.5550 - val_loss: 0.6744 - val_acc: 0.7496\n",
      "Epoch 2/10\n",
      "55000/55000 [==============================] - 14s 257us/step - loss: 0.6688 - acc: 0.6305 - val_loss: 0.6539 - val_acc: 0.8104\n",
      "Epoch 3/10\n",
      "55000/55000 [==============================] - 15s 264us/step - loss: 0.6494 - acc: 0.6801 - val_loss: 0.6283 - val_acc: 0.8242\n",
      "Epoch 4/10\n",
      "55000/55000 [==============================] - 15s 271us/step - loss: 0.6253 - acc: 0.7128 - val_loss: 0.5973 - val_acc: 0.8396\n",
      "Epoch 5/10\n",
      "55000/55000 [==============================] - 16s 290us/step - loss: 0.5991 - acc: 0.7372 - val_loss: 0.5625 - val_acc: 0.8517\n",
      "Epoch 6/10\n",
      "55000/55000 [==============================] - 15s 276us/step - loss: 0.5681 - acc: 0.7567 - val_loss: 0.5238 - val_acc: 0.8598\n",
      "Epoch 7/10\n",
      "55000/55000 [==============================] - 15s 270us/step - loss: 0.5364 - acc: 0.7737 - val_loss: 0.4849 - val_acc: 0.8663\n",
      "Epoch 8/10\n",
      "55000/55000 [==============================] - 15s 265us/step - loss: 0.5042 - acc: 0.7923 - val_loss: 0.4454 - val_acc: 0.8734\n",
      "Epoch 9/10\n",
      "55000/55000 [==============================] - 15s 268us/step - loss: 0.4720 - acc: 0.8047 - val_loss: 0.4092 - val_acc: 0.8788\n",
      "Epoch 10/10\n",
      "55000/55000 [==============================] - 15s 274us/step - loss: 0.4445 - acc: 0.8179 - val_loss: 0.3771 - val_acc: 0.8828\n"
     ]
    }
   ],
   "source": [
    "from keras import optimizers\n",
    "model1.compile(\n",
    "    loss = 'categorical_crossentropy',\n",
    "    optimizer = optimizers.RMSprop(lr = 1e-5),\n",
    "    metrics = ['acc'])\n",
    "\n",
    "history1 = model1.fit(x_train, y_train,\n",
    "                    epochs=10,\n",
    "                    batch_size = 500,\n",
    "                    validation_data = (x_val, y_val),\n",
    "                    verbose = 1)\n",
    "model1.save(\"custom1_odd_or_even.h5\")"
   ]
  },
  {
   "cell_type": "code",
   "execution_count": 19,
   "metadata": {},
   "outputs": [
    {
     "data": {
      "image/png": "[encoded data removed]",
      "text/plain": [
       "<Figure size 432x288 with 1 Axes>"
      ]
     },
     "metadata": {
      "needs_background": "light"
     },
     "output_type": "display_data"
    },
    {
     "data": {
      "image/png": "[encoded data removed]",
      "text/plain": [
       "<Figure size 432x288 with 1 Axes>"
      ]
     },
     "metadata": {
      "needs_background": "light"
     },
     "output_type": "display_data"
    }
   ],
   "source": [
    "#model results\n",
    "import matplotlib.pyplot as plt\n",
    "acc = history1.history['acc']\n",
    "val_acc = history1.history['val_acc']\n",
    "loss = history1.history['loss']\n",
    "val_loss = history1.history['val_loss']\n",
    "epochs = range(1, len(acc) + 1)\n",
    "\n",
    "plt.plot(epochs, acc, 'b', label = 'Training Accuracy')\n",
    "plt.plot(epochs, val_acc, 'r', label = 'Validation Accuracy')\n",
    "plt.title('Training and validation accuracy of model')\n",
    "plt.legend()\n",
    "\n",
    "plt.figure()\n",
    "plt.plot(epochs, loss, 'b', label = 'Training Loss')\n",
    "plt.plot(epochs, val_loss, 'r', label = 'Validation Loss')\n",
    "plt.title('Training and validation loss of model')\n",
    "plt.legend()\n",
    "plt.show()"
   ]
  },
  {
   "cell_type": "code",
   "execution_count": 20,
   "metadata": {},
   "outputs": [
    {
     "name": "stdout",
     "output_type": "stream",
     "text": [
      "5000/5000 [==============================] - 0s 53us/step\n",
      "10000/10000 [==============================] - 1s 51us/step\n",
      "Validation: accuracy = 0.882800  ;  loss_v = 0.377109\n",
      "Test: accuracy = 0.884600  ;  loss = 0.378791\n"
     ]
    }
   ],
   "source": [
    "# Test and Validation accuracy on the test dataset\n",
    "loss1, accuracy1 = model1.evaluate(x_test, y_test, verbose=1)\n",
    "loss_v1, accuracy_v1 = model1.evaluate(x_val, y_val, verbose=1)\n",
    "print(\"Validation: accuracy = %f  ;  loss_v = %f\" % (accuracy_v1, loss_v1))\n",
    "print(\"Test: accuracy = %f  ;  loss = %f\" % (accuracy1, loss1))"
   ]
  },
  {
   "cell_type": "markdown",
   "metadata": {},
   "source": [
    "#### b) Changing the receptive field and stride parameters"
   ]
  },
  {
   "cell_type": "code",
   "execution_count": 42,
   "metadata": {},
   "outputs": [
    {
     "name": "stdout",
     "output_type": "stream",
     "text": [
      "Model: \"sequential_8\"\n",
      "_________________________________________________________________\n",
      "Layer (type)                 Output Shape              Param #   \n",
      "=================================================================\n",
      "conv2d_16 (Conv2D)           (None, 26, 26, 32)        320       \n",
      "_________________________________________________________________\n",
      "max_pooling2d_16 (MaxPooling (None, 13, 13, 32)        0         \n",
      "_________________________________________________________________\n",
      "conv2d_17 (Conv2D)           (None, 6, 6, 64)          18496     \n",
      "_________________________________________________________________\n",
      "max_pooling2d_17 (MaxPooling (None, 3, 3, 64)          0         \n",
      "_________________________________________________________________\n",
      "dropout_8 (Dropout)          (None, 3, 3, 64)          0         \n",
      "_________________________________________________________________\n",
      "flatten_8 (Flatten)          (None, 576)               0         \n",
      "_________________________________________________________________\n",
      "dense_15 (Dense)             (None, 512)               295424    \n",
      "_________________________________________________________________\n",
      "dense_16 (Dense)             (None, 2)                 1026      \n",
      "=================================================================\n",
      "Total params: 315,266\n",
      "Trainable params: 315,266\n",
      "Non-trainable params: 0\n",
      "_________________________________________________________________\n"
     ]
    }
   ],
   "source": [
    "model2 = models.Sequential()\n",
    "\n",
    "model2.add(layers.Conv2D(32, (3, 3), activation = 'relu', input_shape = (28, 28, 1)))\n",
    "model2.add(layers.MaxPooling2D((2, 2)))\n",
    "\n",
    "model2.add(layers.Conv2D(64, (3, 3), activation = 'relu', strides=(2, 2),))\n",
    "model2.add(layers.MaxPooling2D((2, 2)))\n",
    "\n",
    "model2.add(Dropout(0.50))\n",
    "\n",
    "model2.add(layers.Flatten())\n",
    "\n",
    "model2.add(layers.Dense(512, activation = 'relu'))\n",
    "model2.add(layers.Dense(2,activation = 'softmax'))\n",
    "\n",
    "model2.summary()"
   ]
  },
  {
   "cell_type": "code",
   "execution_count": 43,
   "metadata": {
    "scrolled": true
   },
   "outputs": [
    {
     "name": "stdout",
     "output_type": "stream",
     "text": [
      "Train on 55000 samples, validate on 10000 samples\n",
      "Epoch 1/10\n",
      "55000/55000 [==============================] - 12s 217us/step - loss: 0.5753 - acc: 0.7238 - val_loss: 0.4499 - val_acc: 0.8285\n",
      "Epoch 2/10\n",
      "55000/55000 [==============================] - 12s 223us/step - loss: 0.4309 - acc: 0.8163 - val_loss: 0.3332 - val_acc: 0.8777\n",
      "Epoch 3/10\n",
      "55000/55000 [==============================] - 12s 214us/step - loss: 0.3552 - acc: 0.8540 - val_loss: 0.2730 - val_acc: 0.8995\n",
      "Epoch 4/10\n",
      "55000/55000 [==============================] - 12s 215us/step - loss: 0.3064 - acc: 0.8760 - val_loss: 0.2362 - val_acc: 0.9137\n",
      "Epoch 5/10\n",
      "55000/55000 [==============================] - 12s 217us/step - loss: 0.2781 - acc: 0.8895 - val_loss: 0.2101 - val_acc: 0.9231\n",
      "Epoch 6/10\n",
      "55000/55000 [==============================] - 12s 213us/step - loss: 0.2548 - acc: 0.8997 - val_loss: 0.1921 - val_acc: 0.9299\n",
      "Epoch 7/10\n",
      "55000/55000 [==============================] - 12s 214us/step - loss: 0.2379 - acc: 0.9059 - val_loss: 0.1793 - val_acc: 0.9369\n",
      "Epoch 8/10\n",
      "55000/55000 [==============================] - 12s 215us/step - loss: 0.2224 - acc: 0.9152 - val_loss: 0.1622 - val_acc: 0.9428\n",
      "Epoch 9/10\n",
      "55000/55000 [==============================] - 12s 213us/step - loss: 0.2096 - acc: 0.9199 - val_loss: 0.1526 - val_acc: 0.9459\n",
      "Epoch 10/10\n",
      "55000/55000 [==============================] - 12s 216us/step - loss: 0.1959 - acc: 0.9246 - val_loss: 0.1436 - val_acc: 0.9497\n"
     ]
    }
   ],
   "source": [
    "from keras import optimizers\n",
    "model2.compile(\n",
    "    loss = 'categorical_crossentropy',\n",
    "    optimizer = optimizers.RMSprop(lr = 1e-5),\n",
    "    metrics = ['acc'])\n",
    "\n",
    "history2 = model2.fit(x_train, y_train,\n",
    "                    epochs=10,\n",
    "                    batch_size = 100,\n",
    "                    validation_data = (x_val, y_val),\n",
    "                    verbose = 1)\n",
    "model2.save(\"custom2_odd_or_even.h5\")"
   ]
  },
  {
   "cell_type": "code",
   "execution_count": 44,
   "metadata": {
    "scrolled": false
   },
   "outputs": [
    {
     "data": {
      "image/png": "[encoded data removed]",
      "text/plain": [
       "<Figure size 432x288 with 1 Axes>"
      ]
     },
     "metadata": {
      "needs_background": "light"
     },
     "output_type": "display_data"
    },
    {
     "data": {
      "image/png": "[encoded data removed]",
      "text/plain": [
       "<Figure size 432x288 with 1 Axes>"
      ]
     },
     "metadata": {
      "needs_background": "light"
     },
     "output_type": "display_data"
    }
   ],
   "source": [
    "#model results\n",
    "import matplotlib.pyplot as plt\n",
    "acc = history2.history['acc']\n",
    "val_acc = history2.history['val_acc']\n",
    "loss = history2.history['loss']\n",
    "val_loss = history2.history['val_loss']\n",
    "epochs = range(1, len(acc) + 1)\n",
    "\n",
    "plt.plot(epochs, acc, 'b', label = 'Training Accuracy')\n",
    "plt.plot(epochs, val_acc, 'r', label = 'Validation Accuracy')\n",
    "plt.title('Training and validation accuracy of model')\n",
    "plt.legend()\n",
    "\n",
    "plt.figure()\n",
    "plt.plot(epochs, loss, 'b', label = 'Training Loss')\n",
    "plt.plot(epochs, val_loss, 'r', label = 'Validation Loss')\n",
    "plt.title('Training and validation loss of model')\n",
    "plt.legend()\n",
    "plt.show()"
   ]
  },
  {
   "cell_type": "code",
   "execution_count": 45,
   "metadata": {},
   "outputs": [
    {
     "name": "stdout",
     "output_type": "stream",
     "text": [
      "5000/5000 [==============================] - 0s 86us/step\n",
      "10000/10000 [==============================] - 1s 88us/step\n",
      "Validation: accuracy = 0.949700  ;  loss_v = 0.143597\n",
      "Test: accuracy = 0.945000  ;  loss = 0.150168\n"
     ]
    }
   ],
   "source": [
    "# Test and Validation accuracy on the test dataset\n",
    "loss2, accuracy2 = model2.evaluate(x_test, y_test, verbose=1)\n",
    "loss_v2, accuracy_v2 = model2.evaluate(x_val, y_val, verbose=1)\n",
    "print(\"Validation: accuracy = %f  ;  loss_v = %f\" % (accuracy_v2, loss_v2))\n",
    "print(\"Test: accuracy = %f  ;  loss = %f\" % (accuracy2, loss2))"
   ]
  },
  {
   "cell_type": "markdown",
   "metadata": {},
   "source": [
    "#### c) Changing the optimizer and loss functions:"
   ]
  },
  {
   "cell_type": "code",
   "execution_count": 47,
   "metadata": {},
   "outputs": [
    {
     "name": "stdout",
     "output_type": "stream",
     "text": [
      "Model: \"sequential_9\"\n",
      "_________________________________________________________________\n",
      "Layer (type)                 Output Shape              Param #   \n",
      "=================================================================\n",
      "conv2d_18 (Conv2D)           (None, 24, 24, 32)        832       \n",
      "_________________________________________________________________\n",
      "max_pooling2d_18 (MaxPooling (None, 12, 12, 32)        0         \n",
      "_________________________________________________________________\n",
      "conv2d_19 (Conv2D)           (None, 8, 8, 64)          51264     \n",
      "_________________________________________________________________\n",
      "max_pooling2d_19 (MaxPooling (None, 4, 4, 64)          0         \n",
      "_________________________________________________________________\n",
      "dropout_9 (Dropout)          (None, 4, 4, 64)          0         \n",
      "_________________________________________________________________\n",
      "flatten_9 (Flatten)          (None, 1024)              0         \n",
      "_________________________________________________________________\n",
      "dense_17 (Dense)             (None, 512)               524800    \n",
      "_________________________________________________________________\n",
      "dense_18 (Dense)             (None, 2)                 1026      \n",
      "=================================================================\n",
      "Total params: 577,922\n",
      "Trainable params: 577,922\n",
      "Non-trainable params: 0\n",
      "_________________________________________________________________\n"
     ]
    }
   ],
   "source": [
    "model3 = models.Sequential()\n",
    "\n",
    "model3.add(layers.Conv2D(32, (5, 5), activation = 'relu', input_shape = (28, 28, 1)))\n",
    "model3.add(layers.MaxPooling2D((2, 2)))\n",
    "\n",
    "model3.add(layers.Conv2D(64, (5, 5), activation = 'relu'))\n",
    "model3.add(layers.MaxPooling2D((2, 2)))\n",
    "\n",
    "model3.add(Dropout(0.50))\n",
    "\n",
    "model3.add(layers.Flatten())\n",
    "\n",
    "model3.add(layers.Dense(512, activation = 'relu'))\n",
    "model3.add(layers.Dense(2,activation = 'softmax'))\n",
    "\n",
    "model3.summary()"
   ]
  },
  {
   "cell_type": "code",
   "execution_count": 48,
   "metadata": {
    "scrolled": true
   },
   "outputs": [
    {
     "name": "stdout",
     "output_type": "stream",
     "text": [
      "Train on 55000 samples, validate on 10000 samples\n",
      "Epoch 1/20\n",
      "55000/55000 [==============================] - 15s 278us/step - loss: 0.8892 - acc: 0.6576 - val_loss: 0.7288 - val_acc: 0.7926\n",
      "Epoch 2/20\n",
      "55000/55000 [==============================] - 15s 272us/step - loss: 0.6510 - acc: 0.7863 - val_loss: 0.5006 - val_acc: 0.8329\n",
      "Epoch 3/20\n",
      "55000/55000 [==============================] - 15s 267us/step - loss: 0.4860 - acc: 0.8250 - val_loss: 0.3818 - val_acc: 0.8601\n",
      "Epoch 4/20\n",
      "55000/55000 [==============================] - 15s 267us/step - loss: 0.4000 - acc: 0.8458 - val_loss: 0.3236 - val_acc: 0.8733\n",
      "Epoch 5/20\n",
      "55000/55000 [==============================] - 15s 268us/step - loss: 0.3502 - acc: 0.8603 - val_loss: 0.2862 - val_acc: 0.8872\n",
      "Epoch 6/20\n",
      "55000/55000 [==============================] - 15s 267us/step - loss: 0.3130 - acc: 0.8743 - val_loss: 0.2581 - val_acc: 0.8952\n",
      "Epoch 7/20\n",
      "55000/55000 [==============================] - 16s 284us/step - loss: 0.2843 - acc: 0.8843 - val_loss: 0.2353 - val_acc: 0.9029\n",
      "Epoch 8/20\n",
      "55000/55000 [==============================] - 19s 349us/step - loss: 0.2615 - acc: 0.8919 - val_loss: 0.2139 - val_acc: 0.9127\n",
      "Epoch 9/20\n",
      "55000/55000 [==============================] - 18s 336us/step - loss: 0.2388 - acc: 0.9025 - val_loss: 0.1952 - val_acc: 0.9208\n",
      "Epoch 10/20\n",
      "55000/55000 [==============================] - 17s 305us/step - loss: 0.2193 - acc: 0.9118 - val_loss: 0.1785 - val_acc: 0.9274\n",
      "Epoch 11/20\n",
      "55000/55000 [==============================] - 16s 291us/step - loss: 0.2029 - acc: 0.9178 - val_loss: 0.1634 - val_acc: 0.9326\n",
      "Epoch 12/20\n",
      "55000/55000 [==============================] - 16s 292us/step - loss: 0.1902 - acc: 0.9239 - val_loss: 0.1510 - val_acc: 0.9388\n",
      "Epoch 13/20\n",
      "55000/55000 [==============================] - 16s 298us/step - loss: 0.1759 - acc: 0.9292 - val_loss: 0.1399 - val_acc: 0.9444\n",
      "Epoch 14/20\n",
      "55000/55000 [==============================] - 16s 299us/step - loss: 0.1652 - acc: 0.9339 - val_loss: 0.1304 - val_acc: 0.9483\n",
      "Epoch 15/20\n",
      "55000/55000 [==============================] - 17s 302us/step - loss: 0.1566 - acc: 0.9368 - val_loss: 0.1223 - val_acc: 0.9521\n",
      "Epoch 16/20\n",
      "55000/55000 [==============================] - 16s 297us/step - loss: 0.1473 - acc: 0.9409 - val_loss: 0.1156 - val_acc: 0.9543\n",
      "Epoch 17/20\n",
      "55000/55000 [==============================] - 16s 299us/step - loss: 0.1416 - acc: 0.9426 - val_loss: 0.1096 - val_acc: 0.9562\n",
      "Epoch 18/20\n",
      "55000/55000 [==============================] - 17s 308us/step - loss: 0.1335 - acc: 0.9468 - val_loss: 0.1033 - val_acc: 0.9594\n",
      "Epoch 19/20\n",
      "55000/55000 [==============================] - 17s 308us/step - loss: 0.1278 - acc: 0.9486 - val_loss: 0.0988 - val_acc: 0.9602\n",
      "Epoch 20/20\n",
      "55000/55000 [==============================] - 16s 299us/step - loss: 0.1235 - acc: 0.9501 - val_loss: 0.0943 - val_acc: 0.9625\n"
     ]
    }
   ],
   "source": [
    "from keras import optimizers\n",
    "model3.compile(\n",
    "    loss = 'categorical_hinge',\n",
    "    optimizer = optimizers.Adam(lr = 1e-5),\n",
    "    metrics = ['acc'])\n",
    "\n",
    "history3 = model3.fit(x_train, y_train,\n",
    "                    epochs=20,\n",
    "                    batch_size = 500,\n",
    "                    validation_data = (x_val, y_val),\n",
    "                    verbose = 1)\n",
    "model3.save(\"custom3_odd_or_even.h5\")"
   ]
  },
  {
   "cell_type": "code",
   "execution_count": 49,
   "metadata": {},
   "outputs": [
    {
     "data": {
      "image/png": "[encoded data removed]",
      "text/plain": [
       "<Figure size 432x288 with 1 Axes>"
      ]
     },
     "metadata": {
      "needs_background": "light"
     },
     "output_type": "display_data"
    },
    {
     "data": {
      "image/png": "[encoded data removed]",
      "text/plain": [
       "<Figure size 432x288 with 1 Axes>"
      ]
     },
     "metadata": {
      "needs_background": "light"
     },
     "output_type": "display_data"
    }
   ],
   "source": [
    "#model results\n",
    "import matplotlib.pyplot as plt\n",
    "acc = history3.history['acc']\n",
    "val_acc = history3.history['val_acc']\n",
    "loss = history3.history['loss']\n",
    "val_loss = history3.history['val_loss']\n",
    "epochs = range(1, len(acc) + 1)\n",
    "\n",
    "plt.plot(epochs, acc, 'b', label = 'Training Accuracy')\n",
    "plt.plot(epochs, val_acc, 'r', label = 'Validation Accuracy')\n",
    "plt.title('Training and validation accuracy of model')\n",
    "plt.legend()\n",
    "\n",
    "plt.figure()\n",
    "plt.plot(epochs, loss, 'b', label = 'Training Loss')\n",
    "plt.plot(epochs, val_loss, 'r', label = 'Validation Loss')\n",
    "plt.title('Training and validation loss of model')\n",
    "plt.legend()\n",
    "plt.show()"
   ]
  },
  {
   "cell_type": "code",
   "execution_count": 50,
   "metadata": {},
   "outputs": [
    {
     "name": "stdout",
     "output_type": "stream",
     "text": [
      "5000/5000 [==============================] - 1s 145us/step\n",
      "10000/10000 [==============================] - 1s 143us/step\n",
      "Validation: accuracy = 0.962500  ;  loss_v = 0.094333\n",
      "Test: accuracy = 0.960800  ;  loss = 0.096162\n"
     ]
    }
   ],
   "source": [
    "# Test and Validation accuracy on the test dataset\n",
    "loss3, accuracy3 = model3.evaluate(x_test, y_test, verbose=1)\n",
    "loss_v3, accuracy_v3 = model3.evaluate(x_val, y_val, verbose=1)\n",
    "print(\"Validation: accuracy = %f  ;  loss_v = %f\" % (accuracy_v3, loss_v3))\n",
    "print(\"Test: accuracy = %f  ;  loss = %f\" % (accuracy3, loss3))"
   ]
  },
  {
   "cell_type": "markdown",
   "metadata": {},
   "source": [
    "#### d) Changing Various parameters (learning rate and number of epochs)"
   ]
  },
  {
   "cell_type": "code",
   "execution_count": 51,
   "metadata": {},
   "outputs": [
    {
     "name": "stdout",
     "output_type": "stream",
     "text": [
      "Model: \"sequential_10\"\n",
      "_________________________________________________________________\n",
      "Layer (type)                 Output Shape              Param #   \n",
      "=================================================================\n",
      "conv2d_20 (Conv2D)           (None, 24, 24, 32)        832       \n",
      "_________________________________________________________________\n",
      "max_pooling2d_20 (MaxPooling (None, 12, 12, 32)        0         \n",
      "_________________________________________________________________\n",
      "conv2d_21 (Conv2D)           (None, 8, 8, 64)          51264     \n",
      "_________________________________________________________________\n",
      "max_pooling2d_21 (MaxPooling (None, 4, 4, 64)          0         \n",
      "_________________________________________________________________\n",
      "dropout_10 (Dropout)         (None, 4, 4, 64)          0         \n",
      "_________________________________________________________________\n",
      "flatten_10 (Flatten)         (None, 1024)              0         \n",
      "_________________________________________________________________\n",
      "dense_19 (Dense)             (None, 512)               524800    \n",
      "_________________________________________________________________\n",
      "dense_20 (Dense)             (None, 2)                 1026      \n",
      "=================================================================\n",
      "Total params: 577,922\n",
      "Trainable params: 577,922\n",
      "Non-trainable params: 0\n",
      "_________________________________________________________________\n"
     ]
    }
   ],
   "source": [
    "model4 = models.Sequential()\n",
    "\n",
    "model4.add(layers.Conv2D(32, (5, 5), activation = 'relu', input_shape = (28, 28, 1)))\n",
    "model4.add(layers.MaxPooling2D((2, 2)))\n",
    "model1.add(BatchNormalization())\n",
    "\n",
    "model4.add(layers.Conv2D(64, (5, 5), activation = 'relu'))\n",
    "model4.add(layers.MaxPooling2D((2, 2)))\n",
    "model1.add(BatchNormalization())\n",
    "\n",
    "model4.add(Dropout(0.50))\n",
    "\n",
    "model4.add(layers.Flatten())\n",
    "\n",
    "model4.add(layers.Dense(512, activation = 'relu'))\n",
    "model4.add(layers.Dense(2,activation = 'softmax'))\n",
    "\n",
    "model4.summary()"
   ]
  },
  {
   "cell_type": "code",
   "execution_count": 52,
   "metadata": {
    "scrolled": true
   },
   "outputs": [
    {
     "name": "stdout",
     "output_type": "stream",
     "text": [
      "Train on 55000 samples, validate on 10000 samples\n",
      "Epoch 1/20\n",
      "55000/55000 [==============================] - 22s 405us/step - loss: 0.6948 - acc: 0.5462 - val_loss: 0.6312 - val_acc: 0.7011\n",
      "Epoch 2/20\n",
      "55000/55000 [==============================] - 22s 407us/step - loss: 0.6119 - acc: 0.6935 - val_loss: 0.5548 - val_acc: 0.7918\n",
      "Epoch 3/20\n",
      "55000/55000 [==============================] - 23s 420us/step - loss: 0.5468 - acc: 0.7684 - val_loss: 0.4938 - val_acc: 0.8134\n",
      "Epoch 4/20\n",
      "55000/55000 [==============================] - 22s 403us/step - loss: 0.4964 - acc: 0.8001 - val_loss: 0.4427 - val_acc: 0.8320\n",
      "Epoch 5/20\n",
      "55000/55000 [==============================] - 22s 407us/step - loss: 0.4553 - acc: 0.8160 - val_loss: 0.4023 - val_acc: 0.8449\n",
      "Epoch 6/20\n",
      "55000/55000 [==============================] - 23s 412us/step - loss: 0.4213 - acc: 0.8296 - val_loss: 0.3710 - val_acc: 0.8536\n",
      "Epoch 7/20\n",
      "55000/55000 [==============================] - 23s 419us/step - loss: 0.3936 - acc: 0.8410 - val_loss: 0.3454 - val_acc: 0.8626\n",
      "Epoch 8/20\n",
      "55000/55000 [==============================] - 23s 413us/step - loss: 0.3729 - acc: 0.8488 - val_loss: 0.3251 - val_acc: 0.8684\n",
      "Epoch 9/20\n",
      "55000/55000 [==============================] - 23s 409us/step - loss: 0.3537 - acc: 0.8566 - val_loss: 0.3083 - val_acc: 0.8750\n",
      "Epoch 10/20\n",
      "55000/55000 [==============================] - 23s 417us/step - loss: 0.3395 - acc: 0.8592 - val_loss: 0.2945 - val_acc: 0.8810\n",
      "Epoch 11/20\n",
      "55000/55000 [==============================] - 23s 427us/step - loss: 0.3254 - acc: 0.8679 - val_loss: 0.2823 - val_acc: 0.8863\n",
      "Epoch 12/20\n",
      "55000/55000 [==============================] - 22s 407us/step - loss: 0.3153 - acc: 0.8711 - val_loss: 0.2709 - val_acc: 0.8925\n",
      "Epoch 13/20\n",
      "55000/55000 [==============================] - 22s 408us/step - loss: 0.3042 - acc: 0.8764 - val_loss: 0.2601 - val_acc: 0.8972\n",
      "Epoch 14/20\n",
      "55000/55000 [==============================] - 24s 431us/step - loss: 0.2957 - acc: 0.8798 - val_loss: 0.2523 - val_acc: 0.9000\n",
      "Epoch 15/20\n",
      "55000/55000 [==============================] - 24s 429us/step - loss: 0.2849 - acc: 0.8857 - val_loss: 0.2431 - val_acc: 0.9040\n",
      "Epoch 16/20\n",
      "55000/55000 [==============================] - 23s 415us/step - loss: 0.2759 - acc: 0.8894 - val_loss: 0.2369 - val_acc: 0.9052\n",
      "Epoch 17/20\n",
      "55000/55000 [==============================] - 23s 413us/step - loss: 0.2682 - acc: 0.8939 - val_loss: 0.2269 - val_acc: 0.9115\n",
      "Epoch 18/20\n",
      "55000/55000 [==============================] - 23s 413us/step - loss: 0.2611 - acc: 0.8963 - val_loss: 0.2208 - val_acc: 0.9134\n",
      "Epoch 19/20\n",
      "55000/55000 [==============================] - 24s 428us/step - loss: 0.2540 - acc: 0.9006 - val_loss: 0.2140 - val_acc: 0.9167\n",
      "Epoch 20/20\n",
      "55000/55000 [==============================] - 23s 418us/step - loss: 0.2470 - acc: 0.9043 - val_loss: 0.2073 - val_acc: 0.9194\n"
     ]
    }
   ],
   "source": [
    "from keras import optimizers\n",
    "model4.compile(\n",
    "    loss = 'categorical_crossentropy',\n",
    "    optimizer = optimizers.RMSprop(lr = 1e-6),\n",
    "    metrics = ['acc'])\n",
    "\n",
    "history4 = model4.fit(x_train, y_train,\n",
    "                    epochs=20,\n",
    "                    batch_size = 100,\n",
    "                    validation_data = (x_val, y_val),\n",
    "                    verbose = 1)\n",
    "model4.save(\"custom4_odd_or_even.h5\")"
   ]
  },
  {
   "cell_type": "code",
   "execution_count": 53,
   "metadata": {},
   "outputs": [
    {
     "data": {
      "image/png": "[encoded data removed]",
      "text/plain": [
       "<Figure size 432x288 with 1 Axes>"
      ]
     },
     "metadata": {
      "needs_background": "light"
     },
     "output_type": "display_data"
    },
    {
     "data": {
      "image/png": "[encoded data removed]",
      "text/plain": [
       "<Figure size 432x288 with 1 Axes>"
      ]
     },
     "metadata": {
      "needs_background": "light"
     },
     "output_type": "display_data"
    }
   ],
   "source": [
    "#model results\n",
    "import matplotlib.pyplot as plt\n",
    "acc = history4.history['acc']\n",
    "val_acc = history4.history['val_acc']\n",
    "loss = history4.history['loss']\n",
    "val_loss = history4.history['val_loss']\n",
    "epochs = range(1, len(acc) + 1)\n",
    "\n",
    "plt.plot(epochs, acc, 'b', label = 'Training Accuracy')\n",
    "plt.plot(epochs, val_acc, 'r', label = 'Validation Accuracy')\n",
    "plt.title('Training and validation accuracy of model')\n",
    "plt.legend()\n",
    "\n",
    "plt.figure()\n",
    "plt.plot(epochs, loss, 'b', label = 'Training Loss')\n",
    "plt.plot(epochs, val_loss, 'r', label = 'Validation Loss')\n",
    "plt.title('Training and validation loss of model')\n",
    "plt.legend()\n",
    "plt.show()"
   ]
  },
  {
   "cell_type": "code",
   "execution_count": 54,
   "metadata": {},
   "outputs": [
    {
     "name": "stdout",
     "output_type": "stream",
     "text": [
      "5000/5000 [==============================] - 1s 151us/step\n",
      "10000/10000 [==============================] - 2s 151us/step\n",
      "Validation: accuracy = 0.919400  ;  loss_v = 0.207274\n",
      "Test: accuracy = 0.916200  ;  loss = 0.215745\n"
     ]
    }
   ],
   "source": [
    "# Test and Validation accuracy on the test dataset\n",
    "loss4, accuracy4 = model4.evaluate(x_test, y_test, verbose=1)\n",
    "loss_v4, accuracy_v4 = model4.evaluate(x_val, y_val, verbose=1)\n",
    "print(\"Validation: accuracy = %f  ;  loss_v = %f\" % (accuracy_v4, loss_v4))\n",
    "print(\"Test: accuracy = %f  ;  loss = %f\" % (accuracy4, loss4))"
   ]
  },
  {
   "cell_type": "markdown",
   "metadata": {},
   "source": [
    "#### e) Adding batch and layer normalization"
   ]
  },
  {
   "cell_type": "code",
   "execution_count": 55,
   "metadata": {},
   "outputs": [
    {
     "name": "stdout",
     "output_type": "stream",
     "text": [
      "Model: \"sequential_11\"\n",
      "_________________________________________________________________\n",
      "Layer (type)                 Output Shape              Param #   \n",
      "=================================================================\n",
      "conv2d_22 (Conv2D)           (None, 24, 24, 32)        832       \n",
      "_________________________________________________________________\n",
      "max_pooling2d_22 (MaxPooling (None, 12, 12, 32)        0         \n",
      "_________________________________________________________________\n",
      "batch_normalization_8 (Batch (None, 12, 12, 32)        128       \n",
      "_________________________________________________________________\n",
      "conv2d_23 (Conv2D)           (None, 8, 8, 64)          51264     \n",
      "_________________________________________________________________\n",
      "max_pooling2d_23 (MaxPooling (None, 4, 4, 64)          0         \n",
      "_________________________________________________________________\n",
      "batch_normalization_9 (Batch (None, 4, 4, 64)          256       \n",
      "_________________________________________________________________\n",
      "dropout_11 (Dropout)         (None, 4, 4, 64)          0         \n",
      "_________________________________________________________________\n",
      "flatten_11 (Flatten)         (None, 1024)              0         \n",
      "_________________________________________________________________\n",
      "dense_21 (Dense)             (None, 512)               524800    \n",
      "_________________________________________________________________\n",
      "batch_normalization_10 (Batc (None, 512)               2048      \n",
      "_________________________________________________________________\n",
      "dense_22 (Dense)             (None, 2)                 1026      \n",
      "=================================================================\n",
      "Total params: 580,354\n",
      "Trainable params: 579,138\n",
      "Non-trainable params: 1,216\n",
      "_________________________________________________________________\n"
     ]
    }
   ],
   "source": [
    "model5 = models.Sequential()\n",
    "\n",
    "model5.add(layers.Conv2D(32, (5, 5), activation = 'relu', input_shape = (28, 28, 1)))\n",
    "model5.add(layers.MaxPooling2D((2, 2)))\n",
    "model5.add(BatchNormalization())\n",
    "\n",
    "model5.add(layers.Conv2D(64, (5, 5), activation = 'relu'))\n",
    "model5.add(layers.MaxPooling2D((2, 2)))\n",
    "model5.add(BatchNormalization())\n",
    "\n",
    "model5.add(Dropout(0.50))\n",
    "\n",
    "model5.add(layers.Flatten())\n",
    "\n",
    "model5.add(layers.Dense(512, activation = 'relu'))\n",
    "model5.add(BatchNormalization())\n",
    "model5.add(layers.Dense(2,activation = 'softmax'))\n",
    "\n",
    "model5.summary()"
   ]
  },
  {
   "cell_type": "code",
   "execution_count": 56,
   "metadata": {},
   "outputs": [
    {
     "name": "stdout",
     "output_type": "stream",
     "text": [
      "Train on 55000 samples, validate on 10000 samples\n",
      "Epoch 1/10\n",
      "55000/55000 [==============================] - 30s 550us/step - loss: 0.3573 - acc: 0.8442 - val_loss: 0.1369 - val_acc: 0.9513\n",
      "Epoch 2/10\n",
      "55000/55000 [==============================] - 31s 560us/step - loss: 0.1757 - acc: 0.9318 - val_loss: 0.0861 - val_acc: 0.9706\n",
      "Epoch 3/10\n",
      "55000/55000 [==============================] - 31s 570us/step - loss: 0.1301 - acc: 0.9514 - val_loss: 0.0713 - val_acc: 0.9770\n",
      "Epoch 4/10\n",
      "55000/55000 [==============================] - 31s 559us/step - loss: 0.1083 - acc: 0.9604 - val_loss: 0.0618 - val_acc: 0.9795\n",
      "Epoch 5/10\n",
      "55000/55000 [==============================] - 31s 567us/step - loss: 0.0954 - acc: 0.9652 - val_loss: 0.0557 - val_acc: 0.9806\n",
      "Epoch 6/10\n",
      "55000/55000 [==============================] - 31s 567us/step - loss: 0.0841 - acc: 0.9685 - val_loss: 0.0513 - val_acc: 0.9823\n",
      "Epoch 7/10\n",
      "55000/55000 [==============================] - 31s 568us/step - loss: 0.0782 - acc: 0.9713 - val_loss: 0.0477 - val_acc: 0.9834\n",
      "Epoch 8/10\n",
      "55000/55000 [==============================] - 31s 566us/step - loss: 0.0707 - acc: 0.9749 - val_loss: 0.0450 - val_acc: 0.9851\n",
      "Epoch 9/10\n",
      "55000/55000 [==============================] - 31s 562us/step - loss: 0.0675 - acc: 0.9759 - val_loss: 0.0430 - val_acc: 0.9857\n",
      "Epoch 10/10\n",
      "55000/55000 [==============================] - 31s 560us/step - loss: 0.0640 - acc: 0.9766 - val_loss: 0.0424 - val_acc: 0.9860\n"
     ]
    }
   ],
   "source": [
    "from keras import optimizers\n",
    "model5.compile(\n",
    "    loss = 'categorical_crossentropy',\n",
    "    optimizer = optimizers.RMSprop(lr = 1e-5),\n",
    "    metrics = ['acc'])\n",
    "\n",
    "history5 = model5.fit(x_train, y_train,\n",
    "                    epochs=10,\n",
    "                    batch_size = 100,\n",
    "                    validation_data = (x_val, y_val),\n",
    "                    verbose = 1)\n",
    "model5.save(\"custom5_odd_or_even.h5\")"
   ]
  },
  {
   "cell_type": "code",
   "execution_count": 57,
   "metadata": {},
   "outputs": [
    {
     "data": {
      "image/png": "[encoded data removed]",
      "text/plain": [
       "<Figure size 432x288 with 1 Axes>"
      ]
     },
     "metadata": {
      "needs_background": "light"
     },
     "output_type": "display_data"
    },
    {
     "data": {
      "image/png": "[encoded data removed]",
      "text/plain": [
       "<Figure size 432x288 with 1 Axes>"
      ]
     },
     "metadata": {
      "needs_background": "light"
     },
     "output_type": "display_data"
    }
   ],
   "source": [
    "#model results\n",
    "import matplotlib.pyplot as plt\n",
    "acc = history5.history['acc']\n",
    "val_acc = history5.history['val_acc']\n",
    "loss = history5.history['loss']\n",
    "val_loss = history5.history['val_loss']\n",
    "epochs = range(1, len(acc) + 1)\n",
    "\n",
    "plt.plot(epochs, acc, 'b', label = 'Training Accuracy')\n",
    "plt.plot(epochs, val_acc, 'r', label = 'Validation Accuracy')\n",
    "plt.title('Training and validation accuracy of model')\n",
    "plt.legend()\n",
    "\n",
    "plt.figure()\n",
    "plt.plot(epochs, loss, 'b', label = 'Training Loss')\n",
    "plt.plot(epochs, val_loss, 'r', label = 'Validation Loss')\n",
    "plt.title('Training and validation loss of model')\n",
    "plt.legend()\n",
    "plt.show()"
   ]
  },
  {
   "cell_type": "code",
   "execution_count": 58,
   "metadata": {},
   "outputs": [
    {
     "name": "stdout",
     "output_type": "stream",
     "text": [
      "5000/5000 [==============================] - 1s 187us/step\n",
      "10000/10000 [==============================] - 2s 186us/step\n",
      "Validation: accuracy = 0.986000  ;  loss_v = 0.042431\n",
      "Test: accuracy = 0.983600  ;  loss = 0.044559\n"
     ]
    }
   ],
   "source": [
    "# Test and Validation accuracy on the test dataset\n",
    "loss5, accuracy5 = model5.evaluate(x_test, y_test, verbose=1)\n",
    "loss_v5, accuracy_v5 = model5.evaluate(x_val, y_val, verbose=1)\n",
    "print(\"Validation: accuracy = %f  ;  loss_v = %f\" % (accuracy_v5, loss_v5))\n",
    "print(\"Test: accuracy = %f  ;  loss = %f\" % (accuracy5, loss5))"
   ]
  },
  {
   "cell_type": "markdown",
   "metadata": {},
   "source": [
    "#### f) Use different weight initializers"
   ]
  },
  {
   "cell_type": "code",
   "execution_count": 59,
   "metadata": {},
   "outputs": [
    {
     "name": "stdout",
     "output_type": "stream",
     "text": [
      "Model: \"sequential_12\"\n",
      "_________________________________________________________________\n",
      "Layer (type)                 Output Shape              Param #   \n",
      "=================================================================\n",
      "conv2d_24 (Conv2D)           (None, 24, 24, 32)        832       \n",
      "_________________________________________________________________\n",
      "max_pooling2d_24 (MaxPooling (None, 12, 12, 32)        0         \n",
      "_________________________________________________________________\n",
      "conv2d_25 (Conv2D)           (None, 8, 8, 64)          51264     \n",
      "_________________________________________________________________\n",
      "max_pooling2d_25 (MaxPooling (None, 4, 4, 64)          0         \n",
      "_________________________________________________________________\n",
      "dropout_12 (Dropout)         (None, 4, 4, 64)          0         \n",
      "_________________________________________________________________\n",
      "flatten_12 (Flatten)         (None, 1024)              0         \n",
      "_________________________________________________________________\n",
      "dense_23 (Dense)             (None, 512)               524800    \n",
      "_________________________________________________________________\n",
      "dense_24 (Dense)             (None, 2)                 1026      \n",
      "=================================================================\n",
      "Total params: 577,922\n",
      "Trainable params: 577,922\n",
      "Non-trainable params: 0\n",
      "_________________________________________________________________\n"
     ]
    }
   ],
   "source": [
    "# Create model\n",
    "model6 = models.Sequential()\n",
    "\n",
    "model6.add(layers.Conv2D(32, (5, 5), activation = 'relu', input_shape = (28, 28, 1)))\n",
    "model6.add(layers.MaxPooling2D((2, 2)))\n",
    "\n",
    "model6.add(layers.Conv2D(64, (5, 5), activation = 'relu'))\n",
    "model6.add(layers.MaxPooling2D((2, 2)))\n",
    "\n",
    "model6.add(Dropout(0.50))\n",
    "\n",
    "model6.add(layers.Flatten())\n",
    "\n",
    "model6.add(layers.Dense(512, activation = 'relu', kernel_initializer='orthogonal'))\n",
    "model6.add(layers.Dense(2,activation = 'softmax'))\n",
    "\n",
    "model6.summary()"
   ]
  },
  {
   "cell_type": "code",
   "execution_count": 60,
   "metadata": {},
   "outputs": [
    {
     "name": "stdout",
     "output_type": "stream",
     "text": [
      "Train on 55000 samples, validate on 10000 samples\n",
      "Epoch 1/10\n",
      "55000/55000 [==============================] - 23s 425us/step - loss: 0.4560 - acc: 0.7968 - val_loss: 0.2981 - val_acc: 0.8812\n",
      "Epoch 2/10\n",
      "55000/55000 [==============================] - 23s 425us/step - loss: 0.2936 - acc: 0.8786 - val_loss: 0.2175 - val_acc: 0.9152\n",
      "Epoch 3/10\n",
      "55000/55000 [==============================] - 23s 424us/step - loss: 0.2269 - acc: 0.9116 - val_loss: 0.1631 - val_acc: 0.9415\n",
      "Epoch 4/10\n",
      "55000/55000 [==============================] - 23s 423us/step - loss: 0.1818 - acc: 0.9328 - val_loss: 0.1272 - val_acc: 0.9543\n",
      "Epoch 5/10\n",
      "55000/55000 [==============================] - 24s 429us/step - loss: 0.1488 - acc: 0.9469 - val_loss: 0.1039 - val_acc: 0.9644\n",
      "Epoch 6/10\n",
      "55000/55000 [==============================] - 23s 420us/step - loss: 0.1265 - acc: 0.9556 - val_loss: 0.0895 - val_acc: 0.9699\n",
      "Epoch 7/10\n",
      "55000/55000 [==============================] - 23s 418us/step - loss: 0.1128 - acc: 0.9604 - val_loss: 0.0798 - val_acc: 0.9729\n",
      "Epoch 8/10\n",
      "55000/55000 [==============================] - 24s 436us/step - loss: 0.1001 - acc: 0.9651 - val_loss: 0.0731 - val_acc: 0.9758\n",
      "Epoch 9/10\n",
      "55000/55000 [==============================] - 23s 421us/step - loss: 0.0943 - acc: 0.9667 - val_loss: 0.0683 - val_acc: 0.9758\n",
      "Epoch 10/10\n",
      "55000/55000 [==============================] - 23s 417us/step - loss: 0.0858 - acc: 0.9700 - val_loss: 0.0634 - val_acc: 0.9780\n"
     ]
    }
   ],
   "source": [
    "from keras import optimizers\n",
    "model6.compile(\n",
    "    loss = 'categorical_crossentropy',\n",
    "    optimizer = optimizers.RMSprop(lr = 1e-5),\n",
    "    metrics = ['acc'])\n",
    "\n",
    "history6 = model6.fit(x_train, y_train,\n",
    "                    epochs=10,\n",
    "                    batch_size = 100,\n",
    "                    validation_data = (x_val, y_val),\n",
    "                    verbose = 1)\n",
    "model6.save(\"custom6_odd_or_even.h5\")"
   ]
  },
  {
   "cell_type": "code",
   "execution_count": 61,
   "metadata": {},
   "outputs": [
    {
     "data": {
      "image/png": "[encoded data removed]",
      "text/plain": [
       "<Figure size 432x288 with 1 Axes>"
      ]
     },
     "metadata": {
      "needs_background": "light"
     },
     "output_type": "display_data"
    },
    {
     "data": {
      "image/png": "[encoded data removed]",
      "text/plain": [
       "<Figure size 432x288 with 1 Axes>"
      ]
     },
     "metadata": {
      "needs_background": "light"
     },
     "output_type": "display_data"
    }
   ],
   "source": [
    "#model results\n",
    "import matplotlib.pyplot as plt\n",
    "acc = history6.history['acc']\n",
    "val_acc = history6.history['val_acc']\n",
    "loss = history6.history['loss']\n",
    "val_loss = history6.history['val_loss']\n",
    "epochs = range(1, len(acc) + 1)\n",
    "\n",
    "plt.plot(epochs, acc, 'b', label = 'Training Accuracy')\n",
    "plt.plot(epochs, val_acc, 'r', label = 'Validation Accuracy')\n",
    "plt.title('Training and validation accuracy of model')\n",
    "plt.legend()\n",
    "\n",
    "plt.figure()\n",
    "plt.plot(epochs, loss, 'b', label = 'Training Loss')\n",
    "plt.plot(epochs, val_loss, 'r', label = 'Validation Loss')\n",
    "plt.title('Training and validation loss of model')\n",
    "plt.legend()\n",
    "plt.show()"
   ]
  },
  {
   "cell_type": "code",
   "execution_count": 40,
   "metadata": {},
   "outputs": [
    {
     "name": "stdout",
     "output_type": "stream",
     "text": [
      "5000/5000 [==============================] - 1s 161us/step\n",
      "10000/10000 [==============================] - 2s 162us/step\n",
      "Validation: accuracy = 0.976900  ;  loss_v = 0.067384\n",
      "Test: accuracy = 0.977000  ;  loss = 0.067868\n"
     ]
    }
   ],
   "source": [
    "# Test and Validation accuracy on the test dataset\n",
    "loss6, accuracy6 = model6.evaluate(x_test, y_test, verbose=1)\n",
    "loss_v6, accuracy_v6 = model6.evaluate(x_val, y_val, verbose=1)\n",
    "print(\"Validation: accuracy = %f  ;  loss_v = %f\" % (accuracy_v6, loss_v6))\n",
    "print(\"Test: accuracy = %f  ;  loss = %f\" % (accuracy6, loss6))"
   ]
  },
  {
   "cell_type": "markdown",
   "metadata": {},
   "source": [
    "#### g) Evaluate the best vlaidation model on the testing subset and report the results"
   ]
  },
  {
   "cell_type": "code",
   "execution_count": 62,
   "metadata": {},
   "outputs": [
    {
     "data": {
      "application/vnd.plotly.v1+json": {
       "config": {
        "plotlyServerURL": "https://plot.ly"
       },
       "data": [
        {
         "cells": {
          "align": [
           "left",
           "center"
          ],
          "fill": {
           "color": [
            [
             "white",
             "white",
             "white",
             "white",
             "white",
             "lightgrey",
             "white",
             "white",
             "white",
             "white",
             "white",
             "white",
             "lightgrey",
             "white",
             "white",
             "white",
             "white",
             "white",
             "white",
             "lightgrey",
             "white",
             "white",
             "white",
             "white",
             "white",
             "white",
             "lightgrey",
             "white",
             "white",
             "white",
             "white",
             "white",
             "white",
             "lightgrey",
             "white"
            ]
           ]
          },
          "font": {
           "color": "darkslategray",
           "size": 11
          },
          "line": {
           "color": "darkslategray"
          },
          "values": [
           [
            "Basic model",
            "Change the network architecture",
            "Changing the receptive field and stride parameters",
            "Changing the optimizer and loss functions:",
            "Changing Various parameters (learning rate and number of epochs)",
            "<b>Adding batch and layer normalization</b>",
            "Use different weight initializers"
           ],
           [
            0.9757000207901001,
            0.8827999830245972,
            0.9496999979019165,
            0.9624999761581421,
            0.9193999767303467,
            0.9860000014305115,
            0.9768999814987183
           ],
           [
            0.06908606078773737,
            0.3771093502044678,
            0.1435967242896557,
            0.09433307630568742,
            0.20727372806072236,
            0.04243082661926746,
            0.06738427998274565
           ],
           [
            0.978600025177002,
            0.8845999836921692,
            0.9449999928474426,
            0.9607999920845032,
            0.9161999821662903,
            0.9836000204086304,
            0.9769999980926514
           ],
           [
            0.06877065032720565,
            0.3787911904335022,
            0.15016782046556473,
            0.0961623150214553,
            0.21574462983608245,
            0.044558984037488696,
            0.06786776476204395
           ]
          ]
         },
         "header": {
          "align": [
           "left",
           "center"
          ],
          "fill": {
           "color": "black"
          },
          "font": {
           "color": "white",
           "size": 12
          },
          "line": {
           "color": "darkslategray"
          },
          "values": [
           "<b>MODELS</b>",
           "<b>Validation Accuracy</b>",
           "<b>Validation Loss</b>",
           "<b>Test Accuracy</b>",
           "<b>Test Loss</b>"
          ]
         },
         "type": "table"
        }
       ],
       "layout": {
        "template": {
         "data": {
          "bar": [
           {
            "error_x": {
             "color": "#2a3f5f"
            },
            "error_y": {
             "color": "#2a3f5f"
            },
            "marker": {
             "line": {
              "color": "#E5ECF6",
              "width": 0.5
             }
            },
            "type": "bar"
           }
          ],
          "barpolar": [
           {
            "marker": {
             "line": {
              "color": "#E5ECF6",
              "width": 0.5
             }
            },
            "type": "barpolar"
           }
          ],
          "carpet": [
           {
            "aaxis": {
             "endlinecolor": "#2a3f5f",
             "gridcolor": "white",
             "linecolor": "white",
             "minorgridcolor": "white",
             "startlinecolor": "#2a3f5f"
            },
            "baxis": {
             "endlinecolor": "#2a3f5f",
             "gridcolor": "white",
             "linecolor": "white",
             "minorgridcolor": "white",
             "startlinecolor": "#2a3f5f"
            },
            "type": "carpet"
           }
          ],
          "choropleth": [
           {
            "colorbar": {
             "outlinewidth": 0,
             "ticks": ""
            },
            "type": "choropleth"
           }
          ],
          "contour": [
           {
            "colorbar": {
             "outlinewidth": 0,
             "ticks": ""
            },
            "colorscale": [
             [
              0,
              "#0d0887"
             ],
             [
              0.1111111111111111,
              "#46039f"
             ],
             [
              0.2222222222222222,
              "#7201a8"
             ],
             [
              0.3333333333333333,
              "#9c179e"
             ],
             [
              0.4444444444444444,
              "#bd3786"
             ],
             [
              0.5555555555555556,
              "#d8576b"
             ],
             [
              0.6666666666666666,
              "#ed7953"
             ],
             [
              0.7777777777777778,
              "#fb9f3a"
             ],
             [
              0.8888888888888888,
              "#fdca26"
             ],
             [
              1,
              "#f0f921"
             ]
            ],
            "type": "contour"
           }
          ],
          "contourcarpet": [
           {
            "colorbar": {
             "outlinewidth": 0,
             "ticks": ""
            },
            "type": "contourcarpet"
           }
          ],
          "heatmap": [
           {
            "colorbar": {
             "outlinewidth": 0,
             "ticks": ""
            },
            "colorscale": [
             [
              0,
              "#0d0887"
             ],
             [
              0.1111111111111111,
              "#46039f"
             ],
             [
              0.2222222222222222,
              "#7201a8"
             ],
             [
              0.3333333333333333,
              "#9c179e"
             ],
             [
              0.4444444444444444,
              "#bd3786"
             ],
             [
              0.5555555555555556,
              "#d8576b"
             ],
             [
              0.6666666666666666,
              "#ed7953"
             ],
             [
              0.7777777777777778,
              "#fb9f3a"
             ],
             [
              0.8888888888888888,
              "#fdca26"
             ],
             [
              1,
              "#f0f921"
             ]
            ],
            "type": "heatmap"
           }
          ],
          "heatmapgl": [
           {
            "colorbar": {
             "outlinewidth": 0,
             "ticks": ""
            },
            "colorscale": [
             [
              0,
              "#0d0887"
             ],
             [
              0.1111111111111111,
              "#46039f"
             ],
             [
              0.2222222222222222,
              "#7201a8"
             ],
             [
              0.3333333333333333,
              "#9c179e"
             ],
             [
              0.4444444444444444,
              "#bd3786"
             ],
             [
              0.5555555555555556,
              "#d8576b"
             ],
             [
              0.6666666666666666,
              "#ed7953"
             ],
             [
              0.7777777777777778,
              "#fb9f3a"
             ],
             [
              0.8888888888888888,
              "#fdca26"
             ],
             [
              1,
              "#f0f921"
             ]
            ],
            "type": "heatmapgl"
           }
          ],
          "histogram": [
           {
            "marker": {
             "colorbar": {
              "outlinewidth": 0,
              "ticks": ""
             }
            },
            "type": "histogram"
           }
          ],
          "histogram2d": [
           {
            "colorbar": {
             "outlinewidth": 0,
             "ticks": ""
            },
            "colorscale": [
             [
              0,
              "#0d0887"
             ],
             [
              0.1111111111111111,
              "#46039f"
             ],
             [
              0.2222222222222222,
              "#7201a8"
             ],
             [
              0.3333333333333333,
              "#9c179e"
             ],
             [
              0.4444444444444444,
              "#bd3786"
             ],
             [
              0.5555555555555556,
              "#d8576b"
             ],
             [
              0.6666666666666666,
              "#ed7953"
             ],
             [
              0.7777777777777778,
              "#fb9f3a"
             ],
             [
              0.8888888888888888,
              "#fdca26"
             ],
             [
              1,
              "#f0f921"
             ]
            ],
            "type": "histogram2d"
           }
          ],
          "histogram2dcontour": [
           {
            "colorbar": {
             "outlinewidth": 0,
             "ticks": ""
            },
            "colorscale": [
             [
              0,
              "#0d0887"
             ],
             [
              0.1111111111111111,
              "#46039f"
             ],
             [
              0.2222222222222222,
              "#7201a8"
             ],
             [
              0.3333333333333333,
              "#9c179e"
             ],
             [
              0.4444444444444444,
              "#bd3786"
             ],
             [
              0.5555555555555556,
              "#d8576b"
             ],
             [
              0.6666666666666666,
              "#ed7953"
             ],
             [
              0.7777777777777778,
              "#fb9f3a"
             ],
             [
              0.8888888888888888,
              "#fdca26"
             ],
             [
              1,
              "#f0f921"
             ]
            ],
            "type": "histogram2dcontour"
           }
          ],
          "mesh3d": [
           {
            "colorbar": {
             "outlinewidth": 0,
             "ticks": ""
            },
            "type": "mesh3d"
           }
          ],
          "parcoords": [
           {
            "line": {
             "colorbar": {
              "outlinewidth": 0,
              "ticks": ""
             }
            },
            "type": "parcoords"
           }
          ],
          "pie": [
           {
            "automargin": true,
            "type": "pie"
           }
          ],
          "scatter": [
           {
            "marker": {
             "colorbar": {
              "outlinewidth": 0,
              "ticks": ""
             }
            },
            "type": "scatter"
           }
          ],
          "scatter3d": [
           {
            "line": {
             "colorbar": {
              "outlinewidth": 0,
              "ticks": ""
             }
            },
            "marker": {
             "colorbar": {
              "outlinewidth": 0,
              "ticks": ""
             }
            },
            "type": "scatter3d"
           }
          ],
          "scattercarpet": [
           {
            "marker": {
             "colorbar": {
              "outlinewidth": 0,
              "ticks": ""
             }
            },
            "type": "scattercarpet"
           }
          ],
          "scattergeo": [
           {
            "marker": {
             "colorbar": {
              "outlinewidth": 0,
              "ticks": ""
             }
            },
            "type": "scattergeo"
           }
          ],
          "scattergl": [
           {
            "marker": {
             "colorbar": {
              "outlinewidth": 0,
              "ticks": ""
             }
            },
            "type": "scattergl"
           }
          ],
          "scattermapbox": [
           {
            "marker": {
             "colorbar": {
              "outlinewidth": 0,
              "ticks": ""
             }
            },
            "type": "scattermapbox"
           }
          ],
          "scatterpolar": [
           {
            "marker": {
             "colorbar": {
              "outlinewidth": 0,
              "ticks": ""
             }
            },
            "type": "scatterpolar"
           }
          ],
          "scatterpolargl": [
           {
            "marker": {
             "colorbar": {
              "outlinewidth": 0,
              "ticks": ""
             }
            },
            "type": "scatterpolargl"
           }
          ],
          "scatterternary": [
           {
            "marker": {
             "colorbar": {
              "outlinewidth": 0,
              "ticks": ""
             }
            },
            "type": "scatterternary"
           }
          ],
          "surface": [
           {
            "colorbar": {
             "outlinewidth": 0,
             "ticks": ""
            },
            "colorscale": [
             [
              0,
              "#0d0887"
             ],
             [
              0.1111111111111111,
              "#46039f"
             ],
             [
              0.2222222222222222,
              "#7201a8"
             ],
             [
              0.3333333333333333,
              "#9c179e"
             ],
             [
              0.4444444444444444,
              "#bd3786"
             ],
             [
              0.5555555555555556,
              "#d8576b"
             ],
             [
              0.6666666666666666,
              "#ed7953"
             ],
             [
              0.7777777777777778,
              "#fb9f3a"
             ],
             [
              0.8888888888888888,
              "#fdca26"
             ],
             [
              1,
              "#f0f921"
             ]
            ],
            "type": "surface"
           }
          ],
          "table": [
           {
            "cells": {
             "fill": {
              "color": "#EBF0F8"
             },
             "line": {
              "color": "white"
             }
            },
            "header": {
             "fill": {
              "color": "#C8D4E3"
             },
             "line": {
              "color": "white"
             }
            },
            "type": "table"
           }
          ]
         },
         "layout": {
          "annotationdefaults": {
           "arrowcolor": "#2a3f5f",
           "arrowhead": 0,
           "arrowwidth": 1
          },
          "coloraxis": {
           "colorbar": {
            "outlinewidth": 0,
            "ticks": ""
           }
          },
          "colorscale": {
           "diverging": [
            [
             0,
             "#8e0152"
            ],
            [
             0.1,
             "#c51b7d"
            ],
            [
             0.2,
             "#de77ae"
            ],
            [
             0.3,
             "#f1b6da"
            ],
            [
             0.4,
             "#fde0ef"
            ],
            [
             0.5,
             "#f7f7f7"
            ],
            [
             0.6,
             "#e6f5d0"
            ],
            [
             0.7,
             "#b8e186"
            ],
            [
             0.8,
             "#7fbc41"
            ],
            [
             0.9,
             "#4d9221"
            ],
            [
             1,
             "#276419"
            ]
           ],
           "sequential": [
            [
             0,
             "#0d0887"
            ],
            [
             0.1111111111111111,
             "#46039f"
            ],
            [
             0.2222222222222222,
             "#7201a8"
            ],
            [
             0.3333333333333333,
             "#9c179e"
            ],
            [
             0.4444444444444444,
             "#bd3786"
            ],
            [
             0.5555555555555556,
             "#d8576b"
            ],
            [
             0.6666666666666666,
             "#ed7953"
            ],
            [
             0.7777777777777778,
             "#fb9f3a"
            ],
            [
             0.8888888888888888,
             "#fdca26"
            ],
            [
             1,
             "#f0f921"
            ]
           ],
           "sequentialminus": [
            [
             0,
             "#0d0887"
            ],
            [
             0.1111111111111111,
             "#46039f"
            ],
            [
             0.2222222222222222,
             "#7201a8"
            ],
            [
             0.3333333333333333,
             "#9c179e"
            ],
            [
             0.4444444444444444,
             "#bd3786"
            ],
            [
             0.5555555555555556,
             "#d8576b"
            ],
            [
             0.6666666666666666,
             "#ed7953"
            ],
            [
             0.7777777777777778,
             "#fb9f3a"
            ],
            [
             0.8888888888888888,
             "#fdca26"
            ],
            [
             1,
             "#f0f921"
            ]
           ]
          },
          "colorway": [
           "#636efa",
           "#EF553B",
           "#00cc96",
           "#ab63fa",
           "#FFA15A",
           "#19d3f3",
           "#FF6692",
           "#B6E880",
           "#FF97FF",
           "#FECB52"
          ],
          "font": {
           "color": "#2a3f5f"
          },
          "geo": {
           "bgcolor": "white",
           "lakecolor": "white",
           "landcolor": "#E5ECF6",
           "showlakes": true,
           "showland": true,
           "subunitcolor": "white"
          },
          "hoverlabel": {
           "align": "left"
          },
          "hovermode": "closest",
          "mapbox": {
           "style": "light"
          },
          "paper_bgcolor": "white",
          "plot_bgcolor": "#E5ECF6",
          "polar": {
           "angularaxis": {
            "gridcolor": "white",
            "linecolor": "white",
            "ticks": ""
           },
           "bgcolor": "#E5ECF6",
           "radialaxis": {
            "gridcolor": "white",
            "linecolor": "white",
            "ticks": ""
           }
          },
          "scene": {
           "xaxis": {
            "backgroundcolor": "#E5ECF6",
            "gridcolor": "white",
            "gridwidth": 2,
            "linecolor": "white",
            "showbackground": true,
            "ticks": "",
            "zerolinecolor": "white"
           },
           "yaxis": {
            "backgroundcolor": "#E5ECF6",
            "gridcolor": "white",
            "gridwidth": 2,
            "linecolor": "white",
            "showbackground": true,
            "ticks": "",
            "zerolinecolor": "white"
           },
           "zaxis": {
            "backgroundcolor": "#E5ECF6",
            "gridcolor": "white",
            "gridwidth": 2,
            "linecolor": "white",
            "showbackground": true,
            "ticks": "",
            "zerolinecolor": "white"
           }
          },
          "shapedefaults": {
           "line": {
            "color": "#2a3f5f"
           }
          },
          "ternary": {
           "aaxis": {
            "gridcolor": "white",
            "linecolor": "white",
            "ticks": ""
           },
           "baxis": {
            "gridcolor": "white",
            "linecolor": "white",
            "ticks": ""
           },
           "bgcolor": "#E5ECF6",
           "caxis": {
            "gridcolor": "white",
            "linecolor": "white",
            "ticks": ""
           }
          },
          "title": {
           "x": 0.05
          },
          "xaxis": {
           "automargin": true,
           "gridcolor": "white",
           "linecolor": "white",
           "ticks": "",
           "title": {
            "standoff": 15
           },
           "zerolinecolor": "white",
           "zerolinewidth": 2
          },
          "yaxis": {
           "automargin": true,
           "gridcolor": "white",
           "linecolor": "white",
           "ticks": "",
           "title": {
            "standoff": 15
           },
           "zerolinecolor": "white",
           "zerolinewidth": 2
          }
         }
        }
       }
      },
      "text/html": [
       "<div>                            <div id=\"0701e926-50e2-413f-9e77-1e3aae89ba79\" class=\"plotly-graph-div\" style=\"height:525px; width:100%;\"></div>            <script type=\"text/javascript\">                require([\"plotly\"], function(Plotly) {                    window.PLOTLYENV=window.PLOTLYENV || {};                                    if (document.getElementById(\"0701e926-50e2-413f-9e77-1e3aae89ba79\")) {                    Plotly.newPlot(                        \"0701e926-50e2-413f-9e77-1e3aae89ba79\",                        [{\"cells\": {\"align\": [\"left\", \"center\"], \"fill\": {\"color\": [[\"white\", \"white\", \"white\", \"white\", \"white\", \"lightgrey\", \"white\", \"white\", \"white\", \"white\", \"white\", \"white\", \"lightgrey\", \"white\", \"white\", \"white\", \"white\", \"white\", \"white\", \"lightgrey\", \"white\", \"white\", \"white\", \"white\", \"white\", \"white\", \"lightgrey\", \"white\", \"white\", \"white\", \"white\", \"white\", \"white\", \"lightgrey\", \"white\"]]}, \"font\": {\"color\": \"darkslategray\", \"size\": 11}, \"line\": {\"color\": \"darkslategray\"}, \"values\": [[\"Basic model\", \"Change the network architecture\", \"Changing the receptive field and stride parameters\", \"Changing the optimizer and loss functions:\", \"Changing Various parameters (learning rate and number of epochs)\", \"<b>Adding batch and layer normalization</b>\", \"Use different weight initializers\"], [0.9757000207901001, 0.8827999830245972, 0.9496999979019165, 0.9624999761581421, 0.9193999767303467, 0.9860000014305115, 0.9768999814987183], [0.06908606078773737, 0.3771093502044678, 0.1435967242896557, 0.09433307630568742, 0.20727372806072236, 0.04243082661926746, 0.06738427998274565], [0.978600025177002, 0.8845999836921692, 0.9449999928474426, 0.9607999920845032, 0.9161999821662903, 0.9836000204086304, 0.9769999980926514], [0.06877065032720565, 0.3787911904335022, 0.15016782046556473, 0.0961623150214553, 0.21574462983608245, 0.044558984037488696, 0.06786776476204395]]}, \"header\": {\"align\": [\"left\", \"center\"], \"fill\": {\"color\": \"black\"}, \"font\": {\"color\": \"white\", \"size\": 12}, \"line\": {\"color\": \"darkslategray\"}, \"values\": [\"<b>MODELS</b>\", \"<b>Validation Accuracy</b>\", \"<b>Validation Loss</b>\", \"<b>Test Accuracy</b>\", \"<b>Test Loss</b>\"]}, \"type\": \"table\"}],                        {\"template\": {\"data\": {\"bar\": [{\"error_x\": {\"color\": \"#2a3f5f\"}, \"error_y\": {\"color\": \"#2a3f5f\"}, \"marker\": {\"line\": {\"color\": \"#E5ECF6\", \"width\": 0.5}}, \"type\": \"bar\"}], \"barpolar\": [{\"marker\": {\"line\": {\"color\": \"#E5ECF6\", \"width\": 0.5}}, \"type\": \"barpolar\"}], \"carpet\": [{\"aaxis\": {\"endlinecolor\": \"#2a3f5f\", \"gridcolor\": \"white\", \"linecolor\": \"white\", \"minorgridcolor\": \"white\", \"startlinecolor\": \"#2a3f5f\"}, \"baxis\": {\"endlinecolor\": \"#2a3f5f\", \"gridcolor\": \"white\", \"linecolor\": \"white\", \"minorgridcolor\": \"white\", \"startlinecolor\": \"#2a3f5f\"}, \"type\": \"carpet\"}], \"choropleth\": [{\"colorbar\": {\"outlinewidth\": 0, \"ticks\": \"\"}, \"type\": \"choropleth\"}], \"contour\": [{\"colorbar\": {\"outlinewidth\": 0, \"ticks\": \"\"}, \"colorscale\": [[0.0, \"#0d0887\"], [0.1111111111111111, \"#46039f\"], [0.2222222222222222, \"#7201a8\"], [0.3333333333333333, \"#9c179e\"], [0.4444444444444444, \"#bd3786\"], [0.5555555555555556, \"#d8576b\"], [0.6666666666666666, \"#ed7953\"], [0.7777777777777778, \"#fb9f3a\"], [0.8888888888888888, \"#fdca26\"], [1.0, \"#f0f921\"]], \"type\": \"contour\"}], \"contourcarpet\": [{\"colorbar\": {\"outlinewidth\": 0, \"ticks\": \"\"}, \"type\": \"contourcarpet\"}], \"heatmap\": [{\"colorbar\": {\"outlinewidth\": 0, \"ticks\": \"\"}, \"colorscale\": [[0.0, \"#0d0887\"], [0.1111111111111111, \"#46039f\"], [0.2222222222222222, \"#7201a8\"], [0.3333333333333333, \"#9c179e\"], [0.4444444444444444, \"#bd3786\"], [0.5555555555555556, \"#d8576b\"], [0.6666666666666666, \"#ed7953\"], [0.7777777777777778, \"#fb9f3a\"], [0.8888888888888888, \"#fdca26\"], [1.0, \"#f0f921\"]], \"type\": \"heatmap\"}], \"heatmapgl\": [{\"colorbar\": {\"outlinewidth\": 0, \"ticks\": \"\"}, \"colorscale\": [[0.0, \"#0d0887\"], [0.1111111111111111, \"#46039f\"], [0.2222222222222222, \"#7201a8\"], [0.3333333333333333, \"#9c179e\"], [0.4444444444444444, \"#bd3786\"], [0.5555555555555556, \"#d8576b\"], [0.6666666666666666, \"#ed7953\"], [0.7777777777777778, \"#fb9f3a\"], [0.8888888888888888, \"#fdca26\"], [1.0, \"#f0f921\"]], \"type\": \"heatmapgl\"}], \"histogram\": [{\"marker\": {\"colorbar\": {\"outlinewidth\": 0, \"ticks\": \"\"}}, \"type\": \"histogram\"}], \"histogram2d\": [{\"colorbar\": {\"outlinewidth\": 0, \"ticks\": \"\"}, \"colorscale\": [[0.0, \"#0d0887\"], [0.1111111111111111, \"#46039f\"], [0.2222222222222222, \"#7201a8\"], [0.3333333333333333, \"#9c179e\"], [0.4444444444444444, \"#bd3786\"], [0.5555555555555556, \"#d8576b\"], [0.6666666666666666, \"#ed7953\"], [0.7777777777777778, \"#fb9f3a\"], [0.8888888888888888, \"#fdca26\"], [1.0, \"#f0f921\"]], \"type\": \"histogram2d\"}], \"histogram2dcontour\": [{\"colorbar\": {\"outlinewidth\": 0, \"ticks\": \"\"}, \"colorscale\": [[0.0, \"#0d0887\"], [0.1111111111111111, \"#46039f\"], [0.2222222222222222, \"#7201a8\"], [0.3333333333333333, \"#9c179e\"], [0.4444444444444444, \"#bd3786\"], [0.5555555555555556, \"#d8576b\"], [0.6666666666666666, \"#ed7953\"], [0.7777777777777778, \"#fb9f3a\"], [0.8888888888888888, \"#fdca26\"], [1.0, \"#f0f921\"]], \"type\": \"histogram2dcontour\"}], \"mesh3d\": [{\"colorbar\": {\"outlinewidth\": 0, \"ticks\": \"\"}, \"type\": \"mesh3d\"}], \"parcoords\": [{\"line\": {\"colorbar\": {\"outlinewidth\": 0, \"ticks\": \"\"}}, \"type\": \"parcoords\"}], \"pie\": [{\"automargin\": true, \"type\": \"pie\"}], \"scatter\": [{\"marker\": {\"colorbar\": {\"outlinewidth\": 0, \"ticks\": \"\"}}, \"type\": \"scatter\"}], \"scatter3d\": [{\"line\": {\"colorbar\": {\"outlinewidth\": 0, \"ticks\": \"\"}}, \"marker\": {\"colorbar\": {\"outlinewidth\": 0, \"ticks\": \"\"}}, \"type\": \"scatter3d\"}], \"scattercarpet\": [{\"marker\": {\"colorbar\": {\"outlinewidth\": 0, \"ticks\": \"\"}}, \"type\": \"scattercarpet\"}], \"scattergeo\": [{\"marker\": {\"colorbar\": {\"outlinewidth\": 0, \"ticks\": \"\"}}, \"type\": \"scattergeo\"}], \"scattergl\": [{\"marker\": {\"colorbar\": {\"outlinewidth\": 0, \"ticks\": \"\"}}, \"type\": \"scattergl\"}], \"scattermapbox\": [{\"marker\": {\"colorbar\": {\"outlinewidth\": 0, \"ticks\": \"\"}}, \"type\": \"scattermapbox\"}], \"scatterpolar\": [{\"marker\": {\"colorbar\": {\"outlinewidth\": 0, \"ticks\": \"\"}}, \"type\": \"scatterpolar\"}], \"scatterpolargl\": [{\"marker\": {\"colorbar\": {\"outlinewidth\": 0, \"ticks\": \"\"}}, \"type\": \"scatterpolargl\"}], \"scatterternary\": [{\"marker\": {\"colorbar\": {\"outlinewidth\": 0, \"ticks\": \"\"}}, \"type\": \"scatterternary\"}], \"surface\": [{\"colorbar\": {\"outlinewidth\": 0, \"ticks\": \"\"}, \"colorscale\": [[0.0, \"#0d0887\"], [0.1111111111111111, \"#46039f\"], [0.2222222222222222, \"#7201a8\"], [0.3333333333333333, \"#9c179e\"], [0.4444444444444444, \"#bd3786\"], [0.5555555555555556, \"#d8576b\"], [0.6666666666666666, \"#ed7953\"], [0.7777777777777778, \"#fb9f3a\"], [0.8888888888888888, \"#fdca26\"], [1.0, \"#f0f921\"]], \"type\": \"surface\"}], \"table\": [{\"cells\": {\"fill\": {\"color\": \"#EBF0F8\"}, \"line\": {\"color\": \"white\"}}, \"header\": {\"fill\": {\"color\": \"#C8D4E3\"}, \"line\": {\"color\": \"white\"}}, \"type\": \"table\"}]}, \"layout\": {\"annotationdefaults\": {\"arrowcolor\": \"#2a3f5f\", \"arrowhead\": 0, \"arrowwidth\": 1}, \"coloraxis\": {\"colorbar\": {\"outlinewidth\": 0, \"ticks\": \"\"}}, \"colorscale\": {\"diverging\": [[0, \"#8e0152\"], [0.1, \"#c51b7d\"], [0.2, \"#de77ae\"], [0.3, \"#f1b6da\"], [0.4, \"#fde0ef\"], [0.5, \"#f7f7f7\"], [0.6, \"#e6f5d0\"], [0.7, \"#b8e186\"], [0.8, \"#7fbc41\"], [0.9, \"#4d9221\"], [1, \"#276419\"]], \"sequential\": [[0.0, \"#0d0887\"], [0.1111111111111111, \"#46039f\"], [0.2222222222222222, \"#7201a8\"], [0.3333333333333333, \"#9c179e\"], [0.4444444444444444, \"#bd3786\"], [0.5555555555555556, \"#d8576b\"], [0.6666666666666666, \"#ed7953\"], [0.7777777777777778, \"#fb9f3a\"], [0.8888888888888888, \"#fdca26\"], [1.0, \"#f0f921\"]], \"sequentialminus\": [[0.0, \"#0d0887\"], [0.1111111111111111, \"#46039f\"], [0.2222222222222222, \"#7201a8\"], [0.3333333333333333, \"#9c179e\"], [0.4444444444444444, \"#bd3786\"], [0.5555555555555556, \"#d8576b\"], [0.6666666666666666, \"#ed7953\"], [0.7777777777777778, \"#fb9f3a\"], [0.8888888888888888, \"#fdca26\"], [1.0, \"#f0f921\"]]}, \"colorway\": [\"#636efa\", \"#EF553B\", \"#00cc96\", \"#ab63fa\", \"#FFA15A\", \"#19d3f3\", \"#FF6692\", \"#B6E880\", \"#FF97FF\", \"#FECB52\"], \"font\": {\"color\": \"#2a3f5f\"}, \"geo\": {\"bgcolor\": \"white\", \"lakecolor\": \"white\", \"landcolor\": \"#E5ECF6\", \"showlakes\": true, \"showland\": true, \"subunitcolor\": \"white\"}, \"hoverlabel\": {\"align\": \"left\"}, \"hovermode\": \"closest\", \"mapbox\": {\"style\": \"light\"}, \"paper_bgcolor\": \"white\", \"plot_bgcolor\": \"#E5ECF6\", \"polar\": {\"angularaxis\": {\"gridcolor\": \"white\", \"linecolor\": \"white\", \"ticks\": \"\"}, \"bgcolor\": \"#E5ECF6\", \"radialaxis\": {\"gridcolor\": \"white\", \"linecolor\": \"white\", \"ticks\": \"\"}}, \"scene\": {\"xaxis\": {\"backgroundcolor\": \"#E5ECF6\", \"gridcolor\": \"white\", \"gridwidth\": 2, \"linecolor\": \"white\", \"showbackground\": true, \"ticks\": \"\", \"zerolinecolor\": \"white\"}, \"yaxis\": {\"backgroundcolor\": \"#E5ECF6\", \"gridcolor\": \"white\", \"gridwidth\": 2, \"linecolor\": \"white\", \"showbackground\": true, \"ticks\": \"\", \"zerolinecolor\": \"white\"}, \"zaxis\": {\"backgroundcolor\": \"#E5ECF6\", \"gridcolor\": \"white\", \"gridwidth\": 2, \"linecolor\": \"white\", \"showbackground\": true, \"ticks\": \"\", \"zerolinecolor\": \"white\"}}, \"shapedefaults\": {\"line\": {\"color\": \"#2a3f5f\"}}, \"ternary\": {\"aaxis\": {\"gridcolor\": \"white\", \"linecolor\": \"white\", \"ticks\": \"\"}, \"baxis\": {\"gridcolor\": \"white\", \"linecolor\": \"white\", \"ticks\": \"\"}, \"bgcolor\": \"#E5ECF6\", \"caxis\": {\"gridcolor\": \"white\", \"linecolor\": \"white\", \"ticks\": \"\"}}, \"title\": {\"x\": 0.05}, \"xaxis\": {\"automargin\": true, \"gridcolor\": \"white\", \"linecolor\": \"white\", \"ticks\": \"\", \"title\": {\"standoff\": 15}, \"zerolinecolor\": \"white\", \"zerolinewidth\": 2}, \"yaxis\": {\"automargin\": true, \"gridcolor\": \"white\", \"linecolor\": \"white\", \"ticks\": \"\", \"title\": {\"standoff\": 15}, \"zerolinecolor\": \"white\", \"zerolinewidth\": 2}}}},                        {\"responsive\": true}                    ).then(function(){\n",
       "                            \n",
       "var gd = document.getElementById('0701e926-50e2-413f-9e77-1e3aae89ba79');\n",
       "var x = new MutationObserver(function (mutations, observer) {{\n",
       "        var display = window.getComputedStyle(gd).display;\n",
       "        if (!display || display === 'none') {{\n",
       "            console.log([gd, 'removed!']);\n",
       "            Plotly.purge(gd);\n",
       "            observer.disconnect();\n",
       "        }}\n",
       "}});\n",
       "\n",
       "// Listen for the removal of the full notebook cells\n",
       "var notebookContainer = gd.closest('#notebook-container');\n",
       "if (notebookContainer) {{\n",
       "    x.observe(notebookContainer, {childList: true});\n",
       "}}\n",
       "\n",
       "// Listen for the clearing of the current output cell\n",
       "var outputEl = gd.closest('.output');\n",
       "if (outputEl) {{\n",
       "    x.observe(outputEl, {childList: true});\n",
       "}}\n",
       "\n",
       "                        })                };                });            </script>        </div>"
      ]
     },
     "metadata": {},
     "output_type": "display_data"
    }
   ],
   "source": [
    "import plotly.graph_objects as go\n",
    "\n",
    "headerColor = 'black'\n",
    "rowEvenColor = 'lightgrey'\n",
    "rowOddColor = 'white'\n",
    "\n",
    "fig = go.Figure(data=[go.Table(\n",
    "  header=dict(\n",
    "    values=['<b>MODELS</b>','<b>Validation Accuracy</b>','<b>Validation Loss</b>','<b>Test Accuracy</b>','<b>Test Loss</b>'],\n",
    "    line_color='darkslategray',\n",
    "    fill_color=headerColor,\n",
    "    align=['left','center'],\n",
    "    font=dict(color='white', size=12)\n",
    "  ),\n",
    "  cells=dict(\n",
    "    values=[\n",
    "      ['Basic model', 'Change the network architecture', 'Changing the receptive field and stride parameters',\n",
    "       'Changing the optimizer and loss functions:','Changing Various parameters (learning rate and number of epochs)',\n",
    "       '<b>Adding batch and layer normalization</b>','Use different weight initializers'],\n",
    "      [accuracy_v0, accuracy_v1, accuracy_v2, accuracy_v3, accuracy_v4, accuracy_v5, accuracy_v6],\n",
    "      [loss_v0, loss_v1, loss_v2, loss_v3, loss_v4, loss_v5, loss_v6],\n",
    "      [accuracy0, accuracy1, accuracy2, accuracy3, accuracy4, accuracy5, accuracy6],\n",
    "      [loss0, loss1, loss2, loss3, loss4, loss5, loss6]],\n",
    "    line_color='darkslategray',\n",
    "    # 2-D list of colors for alternating rows\n",
    "    fill_color = [[rowOddColor, rowOddColor, rowOddColor, rowOddColor,rowOddColor, rowEvenColor, rowOddColor]*5],\n",
    "    align = ['left', 'center'],\n",
    "    font = dict(color = 'darkslategray', size = 11)\n",
    "    ))\n",
    "])\n",
    "\n",
    "fig.show()"
   ]
  },
  {
   "cell_type": "code",
   "execution_count": null,
   "metadata": {},
   "outputs": [],
   "source": []
  }
 ],
 "metadata": {
  "kernelspec": {
   "display_name": "Python 3",
   "language": "python",
   "name": "python3"
  },
  "language_info": {
   "codemirror_mode": {
    "name": "ipython",
    "version": 3
   },
   "file_extension": ".py",
   "mimetype": "text/x-python",
   "name": "python",
   "nbconvert_exporter": "python",
   "pygments_lexer": "ipython3",
   "version": "3.7.7"
  }
 },
 "nbformat": 4,
 "nbformat_minor": 2
}
