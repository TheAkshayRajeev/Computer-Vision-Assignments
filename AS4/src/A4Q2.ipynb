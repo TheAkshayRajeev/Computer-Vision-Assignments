{
 "cells": [
  {
   "cell_type": "code",
   "execution_count": 1,
   "metadata": {},
   "outputs": [],
   "source": [
    "import numpy as np\n",
    "from scipy.linalg import svd\n",
    "import math \n",
    "import sys\n",
    "import random"
   ]
  },
  {
   "cell_type": "code",
   "execution_count": 2,
   "metadata": {},
   "outputs": [],
   "source": [
    "def calculateEquations(objp, imgp):\n",
    "    A = np.zeros((2*len(objp),9), dtype=float)\n",
    "    for i in range(len(objp)):\n",
    "        A[2*i] = [objp[i][0], \n",
    "                  objp[i][1],  \n",
    "                  1.0, \n",
    "                  0, 0, 0, \n",
    "                  -imgp[i][0]*objp[i][0],\n",
    "                  -imgp[i][0]*objp[i][1],\n",
    "                  -imgp[i][0]]\n",
    "        A[(2*i)+1] = [0, 0, 0, \n",
    "                     objp[i][0], \n",
    "                     objp[i][1],  \n",
    "                     1.0,\n",
    "                     -imgp[i][1]*objp[i][0],\n",
    "                     -imgp[i][1]*objp[i][1],\n",
    "                     -imgp[i][1]]\n",
    "\n",
    "    # Perform SVD\n",
    "    U, D, VT = svd(A)\n",
    "    # Calculate H\n",
    "    H = VT[-1]\n",
    "\n",
    "    # Calculate Vij\n",
    "    V01 = [H[0]*H[1], H[0]*H[4]+H[3]*H[1] ,H[3]*H[4], H[6]*H[1]+H[0]*H[7], H[6]*H[4]+H[3]*H[7], H[6]*H[7]]\n",
    "    V00 = [H[0]*H[0], H[0]*H[3]+H[3]*H[0], H[3]*H[3], H[6]*H[0]+H[0]*H[6], H[6]*H[3]+H[3]*H[6], H[6]*H[6]]\n",
    "    V11 = [H[1]*H[1], H[1]*H[4]+H[4]*H[1], H[4]*H[4], H[7]*H[1]+H[1]*H[7], H[7]*H[4]+H[4]*H[7], H[7]*H[7]]\n",
    "    numpuSubRes = np.subtract(V00,V11)\n",
    "    return H, V01, numpuSubRes"
   ]
  },
  {
   "cell_type": "code",
   "execution_count": 3,
   "metadata": {},
   "outputs": [],
   "source": [
    "def calculateMatrixS(V12, V11_22, V34, V33_44, V56, V55_66):\n",
    "    V = np.array([[V12],[V11_22],[V34],[V33_44],[V56],[V55_66]])\n",
    "    V = np.squeeze(V)\n",
    "    U, D, VT = svd(V)\n",
    "    S = VT[-1]\n",
    "\n",
    "    S11, S12, S22, S13, S23, S33 = S[0], S[1], S[2], S[3], S[4], S[5]\n",
    "    return S11, S12, S22, S13, S23, S33"
   ]
  },
  {
   "cell_type": "code",
   "execution_count": 4,
   "metadata": {},
   "outputs": [],
   "source": [
    "def calculateMatrixH(Hx):\n",
    "    h1 = np.matrix([\n",
    "        [Hx[0]],\n",
    "        [Hx[3]],\n",
    "        [Hx[6]]\n",
    "    ])\n",
    "    h2 = np.matrix([\n",
    "        [Hx[1]],\n",
    "        [Hx[4]],\n",
    "        [Hx[7]]\n",
    "    ])\n",
    "    h3 = np.matrix([\n",
    "        [Hx[2]],\n",
    "        [Hx[5]],\n",
    "        [Hx[8]]\n",
    "    ])\n",
    "    return h1, h2, h3"
   ]
  },
  {
   "cell_type": "code",
   "execution_count": 5,
   "metadata": {},
   "outputs": [],
   "source": [
    "def calcIntrensicParameters(S11, S12, S22, S13, S23, S33):\n",
    "    C1 = ((S12*S13) - (S11*S23))\n",
    "    C2 = ((S11*S22) - (S12*S12))\n",
    "    V0 = C1/C2\n",
    "    lam = S33 - (((S13*S13)+(V0*C1))/S11)\n",
    "    alphaU = (lam/S11)**0.5\n",
    "    alphaV = ((lam*S11)/C2)**0.5\n",
    "    s = ((-S12*alphaU*alphaU*alphaV)/lam)\n",
    "    U0 = (((s*V0)/alphaU)-((S13*alphaU*alphaU)/lam))\n",
    "    Kstar = np.matrix([\n",
    "        [alphaU, s, U0],\n",
    "        [0, alphaV, V0],\n",
    "        [0,    0,    1]\n",
    "    ])\n",
    "    KstarInv = np.linalg.inv(Kstar)\n",
    "    return U0, V0, alphaU, alphaV, s, Kstar, KstarInv"
   ]
  },
  {
   "cell_type": "code",
   "execution_count": 6,
   "metadata": {},
   "outputs": [],
   "source": [
    "def calcExtrensicParameters(h1i1, h2i1, h3i1, KstarInv):    \n",
    "    modAlpha = 1 / np.linalg.norm(np.matmul(KstarInv, h1i1))\n",
    "    signAlpha = np.sign((KstarInv*h3i1)[2])[0,0]\n",
    "    alpha = signAlpha * modAlpha\n",
    "    r1 = (alpha * np.matmul(KstarInv, h1i1))\n",
    "    r2 = (alpha * np.matmul(KstarInv, h2i1))\n",
    "    r3 = np.matrix(np.cross(r1.T,r2.T))\n",
    "    flatr1 = [item for sublist in np.array(r1) for item in sublist]\n",
    "    flatr2 = [item for sublist in np.array(r2) for item in sublist]\n",
    "    flatr3 = [item for sublist in np.array(r3) for item in sublist]\n",
    "    Tarray = (alpha * np.matmul(KstarInv, h3i1))\n",
    "    Tstar = [item for sublist in np.array(Tarray) for item in sublist]\n",
    "    Rstar = np.array([\n",
    "        [flatr1[0],flatr2[0],flatr3[0]],\n",
    "        [flatr1[1],flatr2[1],flatr3[1]],\n",
    "        [flatr1[2],flatr2[2],flatr3[2]]\n",
    "    ])\n",
    "    return Rstar, Tstar"
   ]
  },
  {
   "cell_type": "code",
   "execution_count": 7,
   "metadata": {},
   "outputs": [],
   "source": [
    "def meanSquareError(H, objp, imgp):\n",
    "    h1 = H[:3]\n",
    "    h2 = H[3:6]\n",
    "    h3 = H[6:9]\n",
    "    sqerr = 0\n",
    "    for i, j in zip(objp, imgp):\n",
    "        xi = j[0]\n",
    "        yi = j[1]\n",
    "        pi = np.array(i)\n",
    "        pih = np.concatenate([pi, [1]])\n",
    "        xiestimate = (h1.T.dot(pih)) / (h3.T.dot(pih))\n",
    "        yiestimate = (h2.T.dot(pih)) / (h3.T.dot(pih))\n",
    "        sqerr = sqerr + ((xi - xiestimate) ** 2 + (yi - yiestimate) ** 2)\n",
    "    mse = sqerr / len(imgp)\n",
    "    return mse"
   ]
  },
  {
   "cell_type": "code",
   "execution_count": 8,
   "metadata": {},
   "outputs": [],
   "source": [
    "def dispIntrensicParams(u0, v0, alphaU, alphaV, s):\n",
    "    print('(u0,v0)          = ' + str(u0) + \" , \" + str(v0) )\n",
    "    print('(alphaU, alphaV) = ' + str(alphaU) + \" , \" + str(alphaV))\n",
    "    print(' s               = ' + str(s))\n",
    "    print(\"==========================================================================================\")"
   ]
  },
  {
   "cell_type": "code",
   "execution_count": 9,
   "metadata": {},
   "outputs": [],
   "source": [
    "def dispExtrensicParams(tstar, rstar, num):\n",
    "    print('Image' + str(num) + \":\")\n",
    "    print('\\nRstar = ', str(rstar[0][0]), str(rstar[0][1]), str(rstar[0][2]))\n",
    "    print('        ', str(rstar[1][0]), str(rstar[1][1]), str(rstar[1][2]))\n",
    "    print('        ', str(rstar[2][0]), str(rstar[2][1]), str(rstar[2][2]))\n",
    "    print('\\nTstar = ', str(tstar[0]))\n",
    "    print('        ', str(tstar[1]))\n",
    "    print('        ', str(tstar[2]))\n",
    "    print(\"==========================================================================================\")"
   ]
  },
  {
   "cell_type": "markdown",
   "metadata": {},
   "source": [
    "## Camera Callibration"
   ]
  },
  {
   "cell_type": "code",
   "execution_count": 10,
   "metadata": {
    "scrolled": false
   },
   "outputs": [
    {
     "name": "stdout",
     "output_type": "stream",
     "text": [
      "(u0,v0)          = 544.9279257549949 , 381.0022749464423\n",
      "(alphaU, alphaV) = 952.3820448477614 , 943.4187001914473\n",
      " s               = 1.8173327102012815\n",
      "==========================================================================================\n",
      "Image1:\n",
      "\n",
      "Rstar =  -0.8425829027520126 0.5090208855434368 0.17539622362187368\n",
      "         -0.17527707708332707 -0.5672258657589488 0.8046436664342123\n",
      "         0.5092465004682093 0.6473268802684418 0.5671545094796189\n",
      "\n",
      "Tstar =  2.515442007330661\n",
      "         5.797327548552454\n",
      "         23.325295309423293\n",
      "==========================================================================================\n",
      "Image2:\n",
      "\n",
      "Rstar =  -0.9920542601009686 -0.005711627764796298 0.12559657175983852\n",
      "         0.07205115954902717 -0.8512981142531746 0.519832884341464\n",
      "         0.10313571361638058 0.524590214545251 0.8449454502641489\n",
      "\n",
      "Tstar =  4.845560157904968\n",
      "         4.625042565883247\n",
      "         34.71938177855337\n",
      "==========================================================================================\n",
      "Image3:\n",
      "\n",
      "Rstar =  -0.8714819519277838 0.42296064316347437 0.24752225329404032\n",
      "         -0.48433454577015583 -0.8223568923031072 -0.2987449839612769\n",
      "         0.07706656368203293 -0.38020421027615886 0.9215236406708125\n",
      "\n",
      "Tstar =  2.066967086663892\n",
      "         7.555582207231187\n",
      "         35.47562726078178\n",
      "==========================================================================================\n"
     ]
    }
   ],
   "source": [
    "objectPoints0 = np.loadtxt('../data/textFiles/calibrationdata0.txt',usecols = (0, 1))\n",
    "imagePoints0 = np.loadtxt('../data/textFiles/calibrationdata0.txt',usecols = (3, 4))\n",
    "objectPoints1 = np.loadtxt('../data/textFiles/calibrationdata1.txt',usecols = (0, 1))\n",
    "imagePoints1 = np.loadtxt('../data/textFiles/calibrationdata1.txt',usecols = (3, 4))\n",
    "objectPoints2 = np.loadtxt('../data/textFiles/calibrationdata2.txt',usecols = (0, 1))\n",
    "imagePoints2 = np.loadtxt('../data/textFiles/calibrationdata2.txt',usecols = (3, 4))\n",
    "H1, V12, V11_22 = calculateEquations(objectPoints0, imagePoints0)\n",
    "H2, V34, V33_44 = calculateEquations(objectPoints1, imagePoints1)\n",
    "H3, V56, V55_66 = calculateEquations(objectPoints2, imagePoints2)\n",
    "S11, S12, S22, S13, S23, S33 = calculateMatrixS(V12, V11_22, V34, V33_44, V56, V55_66) \n",
    "h1i1, h2i1, h3i1 = calculateMatrixH(H1)\n",
    "h1i2, h2i2, h3i2 = calculateMatrixH(H2)\n",
    "h1i3, h2i3, h3i3 = calculateMatrixH(H3)\n",
    "u0, v0, alphaU, alphaV, s, Kstar, KstarInv = calcIntrensicParameters(S11, S12, S22, S13, S23, S33)\n",
    "Rstari1, Tstari1 = calcExtrensicParameters(h1i1, h2i1, h3i1, KstarInv)\n",
    "Rstari2, Tstari2 = calcExtrensicParameters(h1i2, h2i2, h3i2, KstarInv)\n",
    "Rstari3, Tstari3 = calcExtrensicParameters(h1i3, h2i3, h3i3, KstarInv)\n",
    "dispIntrensicParams(u0, v0, alphaU, alphaV, s)\n",
    "dispExtrensicParams(Tstari1, Rstari1, 1)\n",
    "dispExtrensicParams(Tstari2, Rstari2, 2)\n",
    "dispExtrensicParams(Tstari3, Rstari3, 3)"
   ]
  },
  {
   "cell_type": "code",
   "execution_count": 11,
   "metadata": {},
   "outputs": [
    {
     "name": "stdout",
     "output_type": "stream",
     "text": [
      "mse1 0.16725956897977698\n",
      "mse2 0.04516003716317788\n",
      "mse3 0.025901091309016685\n"
     ]
    }
   ],
   "source": [
    "mse1 = meanSquareError(H1, objectPoints0, imagePoints0)\n",
    "mse2 = meanSquareError(H2, objectPoints1, imagePoints1)\n",
    "mse3 = meanSquareError(H3, objectPoints1, imagePoints2)\n",
    "print('mse1',mse1)\n",
    "print('mse2',mse2)\n",
    "print('mse3',mse3)"
   ]
  },
  {
   "cell_type": "markdown",
   "metadata": {},
   "source": [
    "## Validation"
   ]
  },
  {
   "cell_type": "code",
   "execution_count": 12,
   "metadata": {},
   "outputs": [
    {
     "name": "stdout",
     "output_type": "stream",
     "text": [
      "(u0,v0)          = 319.9991020450845 , 239.9982648275653\n",
      "(alphaU, alphaV) = 1304.3493974889295 , 1304.348884301188\n",
      " s               = -0.0007131915461616466\n",
      "==========================================================================================\n",
      "Image1:\n",
      "\n",
      "Rstar =  -0.4472136265295159 0.8944271632495162 -1.1855703657692729e-07\n",
      "         0.6666660603069079 0.333333034536825 -0.6666674725845276\n",
      "         -0.5962854486579267 -0.29814290608529403 -0.7453553083723404\n",
      "\n",
      "Tstar =  -89.44224549785918\n",
      "         -199.99892465937654\n",
      "         849.7068890093235\n",
      "==========================================================================================\n",
      "Image2:\n",
      "\n",
      "Rstar =  -0.6000001109855112 0.7999999119224105 -8.072175664008974e-08\n",
      "         0.4997554536435224 0.3748165734326175 -0.7808693418858565\n",
      "         -0.6246954084759478 -0.46852169687940654 -0.6246943045563418\n",
      "\n",
      "Tstar =  -39.99952075385564\n",
      "         -174.91355252579936\n",
      "         858.9565971305186\n",
      "==========================================================================================\n",
      "Image3:\n",
      "\n",
      "Rstar =  -0.24253555506183952 0.970142518768906 1.1657523960040272e-07\n",
      "         0.7995555021188924 0.1998888740611215 -0.5663527460041881\n",
      "         -0.5494429029137161 -0.1373605789191681 -0.8241629477422598\n",
      "\n",
      "Tstar =  -145.5208899644412\n",
      "         -199.88790412361178\n",
      "         865.3725699173315\n",
      "==========================================================================================\n"
     ]
    }
   ],
   "source": [
    "vobjectPoints1 = np.loadtxt('../data/textFiles/profdata3d1.txt',usecols = (0, 1))\n",
    "vimagePoints1 = np.loadtxt('../data/textFiles/profdata2d1.txt',usecols = (0, 1))\n",
    "vimagePoints2 = np.loadtxt('../data/textFiles/profdata2d2.txt',usecols = (0, 1))\n",
    "vimagePoints3 = np.loadtxt('../data/textFiles/profdata2d3.txt',usecols = (0, 1))\n",
    "H1, V12, V11_22 = calculateEquations(vobjectPoints1, vimagePoints1)\n",
    "H2, V34, V33_44 = calculateEquations(vobjectPoints1, vimagePoints2)\n",
    "H3, V56, V55_66 = calculateEquations(vobjectPoints1, vimagePoints3)\n",
    "S11, S12, S22, S13, S23, S33 = calculateMatrixS(V12, V11_22, V34, V33_44, V56, V55_66) \n",
    "h1i1, h2i1, h3i1 = calculateMatrixH(H1)\n",
    "h1i2, h2i2, h3i2 = calculateMatrixH(H2)\n",
    "h1i3, h2i3, h3i3 = calculateMatrixH(H3)\n",
    "u0, v0, alphaU, alphaV, s, Kstar, KstarInv = calcIntrensicParameters(S11, S12, S22, S13, S23, S33)\n",
    "Rstar1, Tstari1 = calcExtrensicParameters(h1i1, h2i1, h3i1, KstarInv)\n",
    "Rstar2, Tstari2 = calcExtrensicParameters(h1i2, h2i2, h3i2, KstarInv)\n",
    "Rstar3, Tstari3 = calcExtrensicParameters(h1i3, h2i3, h3i3, KstarInv)\n",
    "dispIntrensicParams(u0, v0, alphaU, alphaV, s)\n",
    "dispExtrensicParams(Tstari1, Rstar1, 1)\n",
    "dispExtrensicParams(Tstari2, Rstar2, 2)\n",
    "dispExtrensicParams(Tstari3, Rstar3, 3)"
   ]
  },
  {
   "cell_type": "code",
   "execution_count": 13,
   "metadata": {},
   "outputs": [
    {
     "name": "stdout",
     "output_type": "stream",
     "text": [
      "mse1 1.6037478658105047e-09\n",
      "mse2 1.5877812740401116e-09\n",
      "mse3 1.3648170932051296e-09\n"
     ]
    }
   ],
   "source": [
    "mse1 = meanSquareError(H1, vobjectPoints1, vimagePoints1)\n",
    "mse2 = meanSquareError(H2, vobjectPoints1, vimagePoints2)\n",
    "mse3 = meanSquareError(H3, vobjectPoints1, vimagePoints3)\n",
    "print('mse1',mse1)\n",
    "print('mse2',mse2)\n",
    "print('mse3',mse3)"
   ]
  },
  {
   "cell_type": "markdown",
   "metadata": {},
   "source": [
    "## Q3. RANSAC"
   ]
  },
  {
   "cell_type": "code",
   "execution_count": 14,
   "metadata": {},
   "outputs": [
    {
     "name": "stdout",
     "output_type": "stream",
     "text": [
      "0.99 1000 6 10\n"
     ]
    }
   ],
   "source": [
    "with open('../data/textFiles/RANSAC.config', 'r') as conf:\n",
    "    prob = float(conf.readline().split()[0])\n",
    "    kmax = int(conf.readline().split()[0])\n",
    "    nmin = int(conf.readline().split()[0])\n",
    "    nmax = int(conf.readline().split()[0])\n",
    "    \n",
    "print(prob, kmax, nmin, nmax)"
   ]
  },
  {
   "cell_type": "code",
   "execution_count": 15,
   "metadata": {},
   "outputs": [],
   "source": [
    "def calcDistance(H, objp, imgp):\n",
    "    h1 = H[:3]\n",
    "    h2 = H[3:6]\n",
    "    h3 = H[6:9]\n",
    "    sqerr = 0\n",
    "    distance = []\n",
    "    for obj, img in zip(objp, imgp):\n",
    "        xi = img[0]\n",
    "        yi = img[1]\n",
    "        pi = np.array(obj)\n",
    "        pi = np.append(pi, 1)\n",
    "        xiestimate = (h1.T.dot(pi)) / (h3.T.dot(pi))\n",
    "        yiestimate = (h2.T.dot(pi)) / (h3.T.dot(pi))\n",
    "        distancePointPair = (((xi - xiestimate) ** 2 + (yi - yiestimate) ** 2) ** 0.5)\n",
    "        distance.append(distancePointPair)\n",
    "    medianDistance = np.median(distance)\n",
    "    return distance, medianDistance"
   ]
  },
  {
   "cell_type": "code",
   "execution_count": 16,
   "metadata": {},
   "outputs": [],
   "source": [
    "def ransac(op, ip, prob, nmin, nmax, kmax):\n",
    "    w = 0.5\n",
    "    k = kmax\n",
    "    np.random.seed(20442409)\n",
    "    count = 0\n",
    "    inlinerNum = 0\n",
    "    bestM = None\n",
    "    H1, V12, V11_22 = calculateEquations(vobjectPoints1, vimagePoints1)\n",
    "    d, median = calcDistance(H1, nobjectPoints1, nimagePoints1)\n",
    "    \n",
    "    threshold = median + 0.5 * median\n",
    "    n = random.randint(nmin, nmax)\n",
    "    while(count < k and count < kmax):\n",
    "        index = np.random.choice(len(op), n)\n",
    "        ranOp, ranIp = np.array(op)[index], np.array(ip)[index]\n",
    "        Hrandom, V12, V11_22 = calculateEquations(ranOp, ranIp)\n",
    "        d, m = calcDistance(Hrandom, op, ip)\n",
    "        inliner = []\n",
    "        for i, d in enumerate(d):\n",
    "            if d < threshold:\n",
    "                inliner.append(i)\n",
    "        if len(inliner) >= inlinerNum:\n",
    "            inlinerNum = len(inliner)\n",
    "            inlinerOp, inlinerIp = np.array(op)[inliner], np.array(ip)[inliner]\n",
    "            Hbest, V12, V11_22 = calculateEquations(ranOp, ranIp)\n",
    "            bestM = Hbest\n",
    "        if not (w == 0 ):\n",
    "            w = float(len(inliner))/float(len(ip))\n",
    "            k = float(math.log(1 - prob)) / np.absolute(math.log(1 - (w ** n)))\n",
    "        count += 1;\n",
    "    return inlinerNum, bestM"
   ]
  },
  {
   "cell_type": "code",
   "execution_count": 17,
   "metadata": {},
   "outputs": [],
   "source": [
    "nobjectPoints1 = np.loadtxt('../data/textFiles/profnoise13d.txt',usecols = (0, 1))\n",
    "nimagePoints1 = np.loadtxt('../data/textFiles/profnoise12d.txt',usecols = (0, 1))"
   ]
  },
  {
   "cell_type": "code",
   "execution_count": 18,
   "metadata": {},
   "outputs": [
    {
     "name": "stdout",
     "output_type": "stream",
     "text": [
      "(u0,v0)          = 309.8956635600748 , -1090.3589373852471\n",
      "(alphaU, alphaV) = 1827.7401488164978 , 737.3897106652671\n",
      " s               = 3.3548940017270352\n",
      "==========================================================================================\n",
      "Image1:\n",
      "\n",
      "Rstar =  -0.47146094346668693 0.9530353947329991 -0.03722381426756516\n",
      "         0.23881859387460758 0.0830841628435085 -1.0217918203733243\n",
      "         -0.8489347784166088 -0.4512079561846284 -0.26677351068420685\n",
      "\n",
      "Tstar =  -94.39507925388592\n",
      "         1753.001943749625\n",
      "         1267.735446962982\n",
      "==========================================================================================\n",
      "Image2:\n",
      "\n",
      "Rstar =  -0.5410063580612957 0.7134807800489178 -2.2477669980869308e-07\n",
      "         -0.3049322671430996 -0.22869955573187928 -0.8772469175887789\n",
      "         -0.7837910646289753 -0.5878434747820352 0.34129122556008407\n",
      "\n",
      "Tstar =  -32.713990535378585\n",
      "         1556.1528464268797\n",
      "         1077.7132288798186\n",
      "==========================================================================================\n",
      "Image3:\n",
      "\n",
      "Rstar =  -0.24718726651785944 0.9660987672873236 4.0263645591231967e-07\n",
      "         0.5911321896354009 0.14778341388789018 -0.7891809266681966\n",
      "         -0.7677637590094266 -0.1919407346085111 -0.6076222578262424\n",
      "\n",
      "Tstar =  -141.527242176355\n",
      "         1687.5515231424602\n",
      "         1209.2279174051232\n",
      "==========================================================================================\n"
     ]
    }
   ],
   "source": [
    "a, b = ransac(nobjectPoints1, nimagePoints1, prob, nmin, nmax, kmax)\n",
    "V01 = [b[0]*b[1], b[0]*b[4]+b[3]*b[1], b[3]*b[4], b[6]*b[1]+b[0]*b[7], b[6]*b[4]+b[3]*b[7], b[6]*b[7]]\n",
    "V00 = [b[0]*b[0], b[0]*b[3]+b[3]*b[0], b[3]*b[3], b[6]*b[0]+b[0]*b[6], b[6]*b[3]+b[3]*b[6], b[6]*b[6]]\n",
    "V11 = [b[1]*b[1], b[1]*b[4]+b[4]*b[1], b[4]*b[4], b[7]*b[1]+b[1]*b[7], b[7]*b[4]+b[4]*b[7], b[7]*b[7]]\n",
    "numpuSubRes = np.subtract(V00,V11)\n",
    "H2, V34, V33_44 = calculateEquations(vobjectPoints1, vimagePoints2)\n",
    "H3, V56, V55_66 = calculateEquations(vobjectPoints1, vimagePoints3)\n",
    "S11, S12, S22, S13, S23, S33 = calculateMatrixS(V01, numpuSubRes, V34, V33_44, V56, V55_66) \n",
    "h1i1, h2i1, h3i1 = calculateMatrixH(b)\n",
    "h1i2, h2i2, h3i2 = calculateMatrixH(H2)\n",
    "h1i3, h2i3, h3i3 = calculateMatrixH(H3)\n",
    "u0, v0, alphaU, alphaV, s, Kstar, KstarInv = calcIntrensicParameters(S11, S12, S22, S13, S23, S33)\n",
    "Rstar1, Tstari1 = calcExtrensicParameters(h1i1, h2i1, h3i1, KstarInv)\n",
    "Rstar2, Tstari2 = calcExtrensicParameters(h1i2, h2i2, h3i2, KstarInv)\n",
    "Rstar3, Tstari3 = calcExtrensicParameters(h1i3, h2i3, h3i3, KstarInv)\n",
    "dispIntrensicParams(u0, v0, alphaU, alphaV, s)\n",
    "dispExtrensicParams(Tstari1, Rstar1, 1)\n",
    "dispExtrensicParams(Tstari2, Rstar2, 2)\n",
    "dispExtrensicParams(Tstari3, Rstar3, 3)"
   ]
  },
  {
   "cell_type": "code",
   "execution_count": 19,
   "metadata": {},
   "outputs": [],
   "source": [
    "nobjectPoints2 = np.loadtxt('../data/textFiles/profnoise23d.txt',usecols = (0, 1))\n",
    "nimagePoints2 = np.loadtxt('../data/textFiles/profnoise22d.txt',usecols = (0, 1))\n",
    "a2, b2 = ransac(nobjectPoints2, nimagePoints2, prob, nmin, nmax, kmax)"
   ]
  },
  {
   "cell_type": "code",
   "execution_count": 20,
   "metadata": {},
   "outputs": [
    {
     "name": "stdout",
     "output_type": "stream",
     "text": [
      "(u0,v0)          = 319.99820985741405 , 239.9408216130002\n",
      "(alphaU, alphaV) = 1304.3785332790249 , 1304.3523334655688\n",
      " s               = -0.0012611474717532099\n",
      "==========================================================================================\n",
      "Image1:\n",
      "\n",
      "Rstar =  -0.44721370629107027 0.8944270699632682 -4.501489263009084e-07\n",
      "         0.6666526857667029 0.33332645308569875 -0.6666843563972729\n",
      "         -0.5963003416613525 -0.2981509446408396 -0.7453403669027673\n",
      "\n",
      "Tstar =  -89.44175386584081\n",
      "         -199.96539293988798\n",
      "         849.7264608457813\n",
      "==========================================================================================\n",
      "Image2:\n",
      "\n",
      "Rstar =  -0.6000003182217494 0.7999997353647477 -8.0725146733851e-08\n",
      "         0.49973777490242793 0.3748033143702773 -0.7808867580854609\n",
      "         -0.6247093519944854 -0.46853215452144625 -0.6246721955664429\n",
      "\n",
      "Tstar =  -39.9990059870284\n",
      "         -174.87916515353422\n",
      "         858.9757694776698\n",
      "==========================================================================================\n",
      "Image3:\n",
      "\n",
      "Rstar =  -0.24253559617968035 0.9701425134221344 1.1658014051341148e-07\n",
      "         0.7995470537825251 0.19988676198346633 -0.5663654022794266\n",
      "         -0.5494551786756139 -0.1373636478563625 -0.8241542433419272\n",
      "\n",
      "Tstar =  -145.52038267290638\n",
      "         -199.85372992041852\n",
      "         865.3919042422718\n",
      "==========================================================================================\n"
     ]
    }
   ],
   "source": [
    "V01 = [b2[0]*b2[1], b2[0]*b2[4]+b2[3]*b2[1], b2[3]*b2[4], b2[6]*b2[1]+b2[0]*b2[7], b2[6]*b2[4]+b2[3]*b2[7], b2[6]*b2[7]]\n",
    "V00 = [b2[0]*b2[0], b2[0]*b2[3]+b2[3]*b2[0], b2[3]*b2[3], b2[6]*b2[0]+b2[0]*b2[6], b2[6]*b2[3]+b2[3]*b2[6], b2[6]*b2[6]]\n",
    "V11 = [b2[1]*b2[1], b2[1]*b2[4]+b2[4]*b2[1], b2[4]*b2[4], b2[7]*b2[1]+b2[1]*b2[7], b2[7]*b2[4]+b2[4]*b2[7], b2[7]*b2[7]]\n",
    "numpuSubRes = np.subtract(V00,V11)\n",
    "H2, V34, V33_44 = calculateEquations(vobjectPoints1, vimagePoints2)\n",
    "H3, V56, V55_66 = calculateEquations(vobjectPoints1, vimagePoints3)\n",
    "S11, S12, S22, S13, S23, S33 = calculateMatrixS(V01, numpuSubRes, V34, V33_44, V56, V55_66) \n",
    "h1i1, h2i1, h3i1 = calculateMatrixH(b2)\n",
    "h1i2, h2i2, h3i2 = calculateMatrixH(H2)\n",
    "h1i3, h2i3, h3i3 = calculateMatrixH(H3)\n",
    "u0, v0, alphaU, alphaV, s, Kstar, KstarInv = calcIntrensicParameters(S11, S12, S22, S13, S23, S33)\n",
    "Rstar1, Tstari1 = calcExtrensicParameters(h1i1, h2i1, h3i1, KstarInv)\n",
    "Rstar2, Tstari2 = calcExtrensicParameters(h1i2, h2i2, h3i2, KstarInv)\n",
    "Rstar3, Tstari3 = calcExtrensicParameters(h1i3, h2i3, h3i3, KstarInv)\n",
    "dispIntrensicParams(u0, v0, alphaU, alphaV, s)\n",
    "dispExtrensicParams(Tstari1, Rstar1, 1)\n",
    "dispExtrensicParams(Tstari2, Rstar2, 2)\n",
    "dispExtrensicParams(Tstari3, Rstar3, 3)"
   ]
  },
  {
   "cell_type": "code",
   "execution_count": 21,
   "metadata": {},
   "outputs": [
    {
     "name": "stdout",
     "output_type": "stream",
     "text": [
      "mse1 3.4711478180636504\n",
      "mse2 3.1755674523544406e-09\n"
     ]
    }
   ],
   "source": [
    "msein1 = meanSquareError(b, vobjectPoints1, vimagePoints1)\n",
    "msein2 = meanSquareError(b2, vobjectPoints1, vimagePoints1)\n",
    "print('mse1',msein1)\n",
    "print('mse2',msein2)\n"
   ]
  },
  {
   "cell_type": "code",
   "execution_count": 22,
   "metadata": {},
   "outputs": [
    {
     "data": {
      "text/plain": [
       "(66, 111)"
      ]
     },
     "execution_count": 22,
     "metadata": {},
     "output_type": "execute_result"
    }
   ],
   "source": [
    "#Inliers\n",
    "a, a2"
   ]
  }
 ],
 "metadata": {
  "kernelspec": {
   "display_name": "Python 3",
   "language": "python",
   "name": "python3"
  },
  "language_info": {
   "codemirror_mode": {
    "name": "ipython",
    "version": 3
   },
   "file_extension": ".py",
   "mimetype": "text/x-python",
   "name": "python",
   "nbconvert_exporter": "python",
   "pygments_lexer": "ipython3",
   "version": "3.7.4"
  }
 },
 "nbformat": 4,
 "nbformat_minor": 2
}
